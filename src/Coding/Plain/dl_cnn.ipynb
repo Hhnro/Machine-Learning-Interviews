{
 "cells": [
  {
   "cell_type": "markdown",
   "source": [
    "# Writing CNN layers"
   ],
   "metadata": {
    "collapsed": false
   },
   "id": "ffa1505bd11a444c"
  },
  {
   "cell_type": "markdown",
   "source": [
    "## 2D CNN"
   ],
   "metadata": {
    "collapsed": false
   },
   "id": "a5e31a96c727ca57"
  },
  {
   "cell_type": "markdown",
   "source": [
    "#### Convolution"
   ],
   "metadata": {
    "collapsed": false
   },
   "id": "e72f82765894ca7c"
  },
  {
   "cell_type": "code",
   "execution_count": null,
   "outputs": [],
   "source": [
    "import numpy as np\n",
    "\n",
    "\n",
    "def conv2d(image, kernel, stride, padding):\n",
    "    \"\"\"\n",
    "    :param image: \n",
    "    :param kernel: convolutional kernel\n",
    "    :param stride: steps to move kernel\n",
    "    :param padding: number of paddings on each side\n",
    "    :return: \n",
    "    \"\"\"\n",
    "    image_height, image_width = image.shape\n",
    "    kernel_height, kernel_width = kernel.shape\n",
    "    \n",
    "    # Output dimensions\n",
    "    out_height = int((image_height - kernel_height + 2 * padding) / stride + 1)\n",
    "    out_width = int((image_width - kernel_width + 2 * padding) / stride + 1)\n",
    "    \n",
    "    # Apply padding\n",
    "    padded_image = np.pad(image, ((padding, padding), (padding, padding)), mode='constant', constant_values=0)\n",
    "    \n",
    "    # Initialize the output feature map\n",
    "    output = np.zeros((out_height, out_width))\n",
    "    \n",
    "    # Perform convolution\n",
    "    for y in range(0, out_height):\n",
    "        for x in range(0, out_width):\n",
    "            output[y, x] = np.sum(padded_image[y*stride:y*stride+kernel_height, x*stride:x*stride+kernel_width] * kernel)\n",
    "    return output"
   ],
   "metadata": {
    "collapsed": false
   },
   "id": "f80257e5ad2efe23"
  },
  {
   "cell_type": "markdown",
   "source": [
    "#### Pooling"
   ],
   "metadata": {
    "collapsed": false
   },
   "id": "6b1b28e4491144fe"
  },
  {
   "cell_type": "code",
   "execution_count": null,
   "outputs": [],
   "source": [
    "def max_pooling2d(feature_map, size, stride):\n",
    "    \"\"\"\n",
    "    Apply max pooling operation to a feature map.\n",
    "    \"\"\"\n",
    "    pool_height, pool_width = size\n",
    "    out_height = int((feature_map.shape[0] - pool_height) / stride + 1)\n",
    "    out_width = int((feature_map.shape[1] - pool_width) / stride + 1)\n",
    "    \n",
    "    output = np.zeros((out_height, out_width))\n",
    "    \n",
    "    for y in range(out_height):\n",
    "        for x in range(out_width):\n",
    "            output[y, x] = np.max(feature_map[y*stride:y*stride+pool_height, x*stride:x*stride+pool_width])\n",
    "    return output"
   ],
   "metadata": {
    "collapsed": false
   },
   "id": "d849741fd33552eb"
  },
  {
   "cell_type": "markdown",
   "source": [
    "#### Example Model"
   ],
   "metadata": {
    "collapsed": false
   },
   "id": "fc1d5a6a510ce0fb"
  },
  {
   "cell_type": "code",
   "execution_count": null,
   "outputs": [],
   "source": [
    "\n",
    "def relu(x):\n",
    "    \"\"\"\n",
    "    ReLU activation function.\n",
    "    \"\"\"\n",
    "    return np.maximum(0, x)\n",
    "\n",
    "def softmax(x):\n",
    "    \"\"\"\n",
    "    Softmax activation function for the output layer.\n",
    "    \"\"\"\n",
    "    e_x = np.exp(x - np.max(x))\n",
    "    return e_x / e_x.sum(axis=0)\n",
    "\n",
    "class SimpleCNN:\n",
    "    def __init__(self):\n",
    "        self.conv_filter = np.random.rand(3, 3) - 0.5\n",
    "        self.fc_weights = np.random.rand(10, 36) - 0.5  # Assuming flattened 6x6 pooling output for 10 classes\n",
    "        self.fc_bias = np.random.rand(10) - 0.5\n",
    "        \n",
    "    def forward(self, image):\n",
    "        \"\"\"\n",
    "        Forward pass through the CNN.\n",
    "        \"\"\"\n",
    "        conv_out = relu(conv2d(image, self.conv_filter, stride=1, padding=1))\n",
    "        pooled_out = max_pooling2d(conv_out, size=(2, 2), stride=2)\n",
    "        flattened = pooled_out.flatten()\n",
    "        fc_out = softmax(np.dot(self.fc_weights, flattened) + self.fc_bias)\n",
    "        return fc_out\n",
    "\n",
    "# Example usage\n",
    "if __name__ == \"__main__\":\n",
    "    image = np.random.rand(28, 28)  # Example image\n",
    "    cnn = SimpleCNN()\n",
    "    output = cnn.forward(image)\n",
    "    print(\"Output:\", output)"
   ],
   "metadata": {
    "collapsed": false
   },
   "id": "983fa146f1d0a2aa"
  },
  {
   "cell_type": "markdown",
   "source": [],
   "metadata": {
    "collapsed": false
   },
   "id": "6681fc8a73d61a3"
  },
  {
   "cell_type": "markdown",
   "source": [
    "## 3D "
   ],
   "metadata": {
    "collapsed": false
   },
   "id": "3cf02268545b91c3"
  },
  {
   "cell_type": "markdown",
   "source": [
    "#### Convolution"
   ],
   "metadata": {
    "collapsed": false
   },
   "id": "69d84ade1972e471"
  },
  {
   "cell_type": "code",
   "execution_count": null,
   "outputs": [],
   "source": [
    "def convolve3d(input_volume, filter, stride, padding):\n",
    "    \"\"\"\n",
    "    Apply a 3D convolution operation to an input volume using the given filter.\n",
    "    \"\"\"\n",
    "    input_depth, input_height, input_width = input_volume.shape\n",
    "    filter_depth, filter_height, filter_width = filter.shape\n",
    "    \n",
    "    # Output dimensions\n",
    "    out_depth = int((input_depth - filter_depth + 2 * padding) / stride + 1)\n",
    "    out_height = int((input_height - filter_height + 2 * padding) / stride + 1)\n",
    "    out_width = int((input_width - filter_width + 2 * padding) / stride + 1)\n",
    "    \n",
    "    # Apply padding\n",
    "    padded_input = np.pad(input_volume, [(padding, padding), (padding, padding), (padding, padding)], mode='constant', constant_values=0)\n",
    "    \n",
    "    # Initialize the output feature map\n",
    "    output = np.zeros((out_depth, out_height, out_width))\n",
    "    \n",
    "    # Perform 3D convolution\n",
    "    for z in range(out_depth):\n",
    "        for y in range(out_height):\n",
    "            for x in range(out_width):\n",
    "                output[z, y, x] = np.sum(padded_input[z*stride:z*stride+filter_depth,\n",
    "                                                      y*stride:y*stride+filter_height,\n",
    "                                                      x*stride:x*stride+filter_width] * filter)\n",
    "    return output\n"
   ],
   "metadata": {
    "collapsed": false
   },
   "id": "941ebda9bb3e40db"
  },
  {
   "cell_type": "markdown",
   "source": [
    "#### Pooling"
   ],
   "metadata": {
    "collapsed": false
   },
   "id": "1c94f06144102e05"
  },
  {
   "cell_type": "code",
   "execution_count": null,
   "outputs": [],
   "source": [
    "def max_pooling3d(input_volume, size, stride):\n",
    "    \"\"\"\n",
    "    Apply max pooling operation to a 3D input volume.\n",
    "    \"\"\"\n",
    "    pool_depth, pool_height, pool_width = size\n",
    "    out_depth = int((input_volume.shape[0] - pool_depth) / stride + 1)\n",
    "    out_height = int((input_volume.shape[1] - pool_height) / stride + 1)\n",
    "    out_width = int((input_volume.shape[2] - pool_width) / stride + 1)\n",
    "    \n",
    "    output = np.zeros((out_depth, out_height, out_width))\n",
    "    \n",
    "    for z in range(out_depth):\n",
    "        for y in range(out_height):\n",
    "            for x in range(out_width):\n",
    "                output[z, y, x] = np.max(input_volume[z*stride:z*stride+pool_depth,\n",
    "                                                      y*stride:y*stride+pool_height,\n",
    "                                                      x*stride:x*stride+pool_width])\n",
    "    return output"
   ],
   "metadata": {
    "collapsed": false
   },
   "id": "90149992975d1bd7"
  },
  {
   "cell_type": "markdown",
   "source": [
    "#### Example Model"
   ],
   "metadata": {
    "collapsed": false
   },
   "id": "3e6404325c7beea6"
  },
  {
   "cell_type": "code",
   "execution_count": null,
   "outputs": [],
   "source": [
    "import numpy as np\n",
    "\n",
    "def relu(x):\n",
    "    \"\"\"ReLU activation function.\"\"\"\n",
    "    return np.maximum(0, x)\n",
    "\n",
    "def softmax(x):\n",
    "    \"\"\"Softmax activation function.\"\"\"\n",
    "    e_x = np.exp(x - np.max(x))\n",
    "    return e_x / np.sum(e_x, axis=0)\n",
    "\n",
    "class Simple3DCNN:\n",
    "    def __init__(self, input_shape, num_classes):\n",
    "        self.input_shape = input_shape  # Expected input shape: (depth, height, width)\n",
    "        self.num_classes = num_classes\n",
    "        \n",
    "        # Initialize weights for a single 3D convolutional filter\n",
    "        self.conv_filter = np.random.randn(3, 3, 3) - 0.5\n",
    "        \n",
    "        # Initialize weights and biases for the fully connected layer\n",
    "        # Assume flattened output from pooling layer for simplicity\n",
    "        self.fc_weights = np.random.randn(num_classes, 108) - 0.5  # Example shape\n",
    "        self.fc_bias = np.random.randn(num_classes) - 0.5\n",
    "    \n",
    "    def forward(self, input_volume):\n",
    "        \"\"\"Forward pass through the 3D CNN.\"\"\"\n",
    "        # Convolutional layer\n",
    "        conv_out = relu(convolve3d(input_volume, self.conv_filter, stride=1, padding=1))\n",
    "        \n",
    "        # Pooling layer\n",
    "        pooled_out = max_pooling3d(conv_out, size=2, stride=2)\n",
    "        \n",
    "        # Flatten\n",
    "        flattened = pooled_out.flatten()\n",
    "        \n",
    "        # Fully connected layer\n",
    "        fc_out = softmax(np.dot(self.fc_weights, flattened) + self.fc_bias)\n",
    "        \n",
    "        return fc_out"
   ],
   "metadata": {
    "collapsed": false
   },
   "id": "70708dc8fdcc8e06"
  },
  {
   "cell_type": "code",
   "execution_count": null,
   "outputs": [],
   "source": [
    "# Example usage\n",
    "if __name__ == \"__main__\":\n",
    "    # Dummy volumetric data\n",
    "    input_volume = np.random.rand(10, 32, 32)  # Example 3D input (depth, height, width)\n",
    "    model = Simple3DCNN(input_shape=input_volume.shape, num_classes=3)\n",
    "    output = model.forward(input_volume)\n",
    "    print(\"Output:\", output)"
   ],
   "metadata": {
    "collapsed": false
   },
   "id": "826b0d3479741337"
  },
  {
   "cell_type": "code",
   "execution_count": null,
   "outputs": [],
   "source": [],
   "metadata": {
    "collapsed": false
   },
   "id": "70cbe88c5ee9a9a1"
  }
 ],
 "metadata": {
  "kernelspec": {
   "display_name": "Python 3",
   "language": "python",
   "name": "python3"
  },
  "language_info": {
   "codemirror_mode": {
    "name": "ipython",
    "version": 2
   },
   "file_extension": ".py",
   "mimetype": "text/x-python",
   "name": "python",
   "nbconvert_exporter": "python",
   "pygments_lexer": "ipython2",
   "version": "2.7.6"
  }
 },
 "nbformat": 4,
 "nbformat_minor": 5
}
