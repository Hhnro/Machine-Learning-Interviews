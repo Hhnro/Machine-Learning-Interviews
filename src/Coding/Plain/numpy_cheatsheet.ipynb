{
 "cells": [
  {
   "cell_type": "code",
   "execution_count": null,
   "outputs": [],
   "source": [
    "import numpy as np"
   ],
   "metadata": {
    "collapsed": false
   },
   "id": "d0a9f78f6518ddbf"
  },
  {
   "cell_type": "markdown",
   "source": [
    "### Load basic data or numpy data"
   ],
   "metadata": {
    "collapsed": false
   },
   "id": "2b3c52050f0dc62b"
  },
  {
   "cell_type": "markdown",
   "source": [
    "#### Load external data\n",
    "`loadtxt` and `savetxt` : used to load data from a text file, with each row in the text file corresponding to a row in the array, and each value within that row being separated by a specified delimiter."
   ],
   "metadata": {
    "collapsed": false
   },
   "id": "436190e3e771d178"
  },
  {
   "cell_type": "code",
   "execution_count": null,
   "outputs": [],
   "source": [
    "data = np.loadtxt('file.txt', delimiter=',')\n",
    "np.savetxt('file.txt', data, delimiter=',')"
   ],
   "metadata": {
    "collapsed": false
   },
   "id": "7b477762204af270"
  },
  {
   "cell_type": "markdown",
   "source": [
    "#### Load `.npy` files\n",
    "`save` and `load`: used to save and load NumPy array data in a binary format with a `.npy` extension"
   ],
   "metadata": {
    "collapsed": false
   },
   "id": "cc0fd40d2094f635"
  },
  {
   "cell_type": "code",
   "execution_count": null,
   "outputs": [],
   "source": [
    "# To save an array to a binary file in NumPy `.npy` format\n",
    "np.save('array.npy', data)\n",
    "\n",
    "# To load an array from a `.npy` file\n",
    "data = np.load('array.npy')"
   ],
   "metadata": {
    "collapsed": false
   },
   "id": "ec5ef060fe0c286e"
  },
  {
   "cell_type": "markdown",
   "source": [
    "### Creating arrays with Numpy"
   ],
   "metadata": {
    "collapsed": false
   },
   "id": "bdc9f67e0d36ea06"
  },
  {
   "cell_type": "markdown",
   "source": [
    "#### Transform data to numpy array"
   ],
   "metadata": {
    "collapsed": false
   },
   "id": "cac2f9acff19d92f"
  },
  {
   "cell_type": "code",
   "execution_count": null,
   "outputs": [],
   "source": [
    "arr = np.array(data)"
   ],
   "metadata": {
    "collapsed": false
   },
   "id": "7401f55846956401"
  },
  {
   "cell_type": "markdown",
   "source": [
    "#### Set with specific values, e.g., `np.zeros`, `np.ones`, `np.full`, `np.eye`, `np.zeros_like`, `np.ones_like`"
   ],
   "metadata": {
    "collapsed": false
   },
   "id": "660f0de03dd0fba2"
  },
  {
   "cell_type": "code",
   "execution_count": null,
   "outputs": [],
   "source": [
    "# Create a 3x4 array filled with zeros (of float type by default)\n",
    "arr_zeros = np.zeros((3, 4))\n",
    "\n",
    "arr_zeros2 = np.zeros_like(arr_zeros)\n",
    "\n",
    "# Create a 2x5 array filled with ones\n",
    "arr_ones = np.ones((2, 5))\n",
    "\n",
    "# Create a 4x4 array filled with a specific value, e.g., 9\n",
    "arr_full = np.full((4, 4), 9)\n",
    "\n",
    "# Create a 3x3 identity matrix\n",
    "arr_identity = np.eye(3)"
   ],
   "metadata": {
    "collapsed": false
   },
   "id": "532c471e7d8ff07b"
  },
  {
   "cell_type": "markdown",
   "source": [
    "#### Set with range values, e.g., `np.arange`, `np.linspace`"
   ],
   "metadata": {
    "collapsed": false
   },
   "id": "63916332de4fc8b"
  },
  {
   "cell_type": "code",
   "execution_count": null,
   "outputs": [],
   "source": [
    "# Create a 1D array of numbers from 0 to 9\n",
    "arr_range = np.arange(10)\n",
    "\n",
    "# Create a 1D array of 5 numbers evenly spaced between 0 and 1\n",
    "arr_linspace = np.linspace(0, 1, 5)  # [0.   0.25 0.5  0.75 1.  ]"
   ],
   "metadata": {
    "collapsed": false
   },
   "id": "ecf5d081f8c94329"
  },
  {
   "cell_type": "markdown",
   "source": [
    "#### Set with random values, e.g., `np.random.random`, `np.random.randint`"
   ],
   "metadata": {
    "collapsed": false
   },
   "id": "ae007fe1d1c3c66a"
  },
  {
   "cell_type": "code",
   "execution_count": null,
   "outputs": [],
   "source": [
    "# set random seed\n",
    "np.random.seed(10)\n",
    "\n",
    "# random sample with size in the interval [0.0, 1.0)\n",
    "arr_random = np.random.random(size=(2,3))\n",
    "\n",
    "# random sample with uniform distribution [0,1), similar to above\n",
    "arr_random = np.random.random(2, 3)\n",
    "\n",
    "# random integers\n",
    "arr_random = np.random.randint(5)  # generate value in range [0,5)\n",
    "arr_random = np.random.randint(5, high=6) # generate value in range [5,6)\n",
    "arr_random = np.random.randint(0, high=6, size=(2,2))  # \n",
    "\n",
    "# random shuffle\n",
    "np.random.shuffle(arr_random)\n",
    "\n",
    "# random choice\n",
    "colors = ['red', 'blue', 'green']\n",
    "print(np.random.choice(colors))  # blue\n",
    "print(repr(np.random.choice(colors, size=2)))  # ['blue', 'red']\n",
    "# the probability is for different weights\n",
    "print(repr(np.random.choice(colors, size=(2, 2), p=[0.8, 0.19, 0.01])))"
   ],
   "metadata": {
    "collapsed": false
   },
   "id": "9c275796896ee73c"
  },
  {
   "cell_type": "markdown",
   "source": [
    "#### Draw distributions, e.g., `np.random.uniform()`"
   ],
   "metadata": {
    "collapsed": false
   },
   "id": "fd094383fb41d76e"
  },
  {
   "cell_type": "code",
   "execution_count": null,
   "outputs": [],
   "source": [
    "# uniform distribution\n",
    "print(np.random.uniform())  # 0.31  # range [0,1)\n",
    "print(np.random.uniform(low=-1.5, high=2.2))  # -0.618\n",
    "print(repr(np.random.uniform(size=3))) \n",
    "print(repr(np.random.uniform(low=-3.4, high=5.9, size=(2, 2))))\n",
    "\n",
    "# gaussian distribution\n",
    "print(np.random.normal())  # default loc=0, scale=1\n",
    "print(np.random.normal(loc=1.5, scale=3.5))\n",
    "print(repr(np.random.normal(loc=-2.4, scale=4.0, size=(2, 2))))"
   ],
   "metadata": {
    "collapsed": false
   },
   "id": "bad18a2b23c589d"
  },
  {
   "cell_type": "markdown",
   "source": [
    "#### Special values"
   ],
   "metadata": {
    "collapsed": false
   },
   "id": "4286e7127d5b43b1"
  },
  {
   "cell_type": "code",
   "execution_count": null,
   "outputs": [],
   "source": [
    "a = np.nan\n",
    "b = np.inf\n",
    "c = np.e\n",
    "d = np.pi"
   ],
   "metadata": {
    "collapsed": false
   },
   "id": "c865c5c39d39ddd0"
  },
  {
   "cell_type": "markdown",
   "source": [
    "### Handling NumPy Array"
   ],
   "metadata": {
    "collapsed": false
   },
   "id": "f0eb55fc8cb61287"
  },
  {
   "cell_type": "markdown",
   "source": [
    "#### Check the array dimension with `shape` and `size`"
   ],
   "metadata": {
    "collapsed": false
   },
   "id": "78f250c788a69783"
  },
  {
   "cell_type": "code",
   "execution_count": null,
   "outputs": [],
   "source": [
    "matrix = np.array([[1,2,3],[4,5,6],[7,8,9]])\n",
    "\n",
    "print(matrix.shape)  # (3,3)\n",
    "print(matrix.size)  # 9  the total number of elements"
   ],
   "metadata": {
    "collapsed": false
   },
   "id": "44e87f694110ebeb"
  },
  {
   "cell_type": "markdown",
   "source": [
    "#### Set the data type with `dtype` or `astype`"
   ],
   "metadata": {
    "collapsed": false
   },
   "id": "8b83be947bae8477"
  },
  {
   "cell_type": "code",
   "execution_count": null,
   "outputs": [],
   "source": [
    "arr = np.array(data, dtype=np.float32)\n",
    "\n",
    "arr2 = arr.astype(np.float16)"
   ],
   "metadata": {
    "collapsed": false
   },
   "id": "5d53311292a3bed5"
  },
  {
   "cell_type": "markdown",
   "source": [
    "#### Copy an array with `.copy()`"
   ],
   "metadata": {
    "collapsed": false
   },
   "id": "af51fdb51e191ad8"
  },
  {
   "cell_type": "code",
   "execution_count": null,
   "outputs": [],
   "source": [
    "a = np.array([0, 1])\n",
    "b = a.copy()"
   ],
   "metadata": {
    "collapsed": false
   },
   "id": "c7148a1ee7b8e09b"
  },
  {
   "cell_type": "markdown",
   "source": [
    "#### Reshape data with `np.reshape`, `np.squeeze`, or `np.expand_dims`"
   ],
   "metadata": {
    "collapsed": false
   },
   "id": "5df93e72e87efde"
  },
  {
   "cell_type": "code",
   "execution_count": null,
   "outputs": [],
   "source": [
    "arr = np.arange(8)  # numbers from 0 to 7, shape is (8,)\n",
    "arr2 = np.random.random(size=(2,3,1))\n",
    "\n",
    "# reshape\n",
    "reshaped_arr = np.reshape(arr, (2, 4)) # from (8,) to (2,4)\n",
    "\n",
    "# squeeze\n",
    "# axis: axes with size 1 to be removed, for this case only axis 2 can be removed\n",
    "squeezed_arr = np.squeeze(arr2) # from (2,3,1) to (6,)\n",
    "squeezed_arr2 = np.squeeze(arr2, axis=2) # from (2,3,1) to (2,3)\n",
    "\n",
    "# expand_dims\n",
    "expanded_arr = np.expand_dims(arr, axis=0) # add new axis at 0, new shape (1, 8)\n",
    "expanded_arr2 = np.expand_dims(arr, axis=1) # add new axis at 1, new shape (8, 1)"
   ],
   "metadata": {
    "collapsed": false
   },
   "id": "6289ef2800ce8a18"
  },
  {
   "cell_type": "markdown",
   "source": [
    "#### Transpose data `np.transpose`"
   ],
   "metadata": {
    "collapsed": false
   },
   "id": "c7d72ebcb163a202"
  },
  {
   "cell_type": "code",
   "execution_count": null,
   "outputs": [],
   "source": [
    "arr = np.arange(8)\n",
    "arr = np.reshape(arr, (4, 2))  # shape [4,2]\n",
    "transposed = np.transpose(arr)  # shape [2,4]\n",
    "\n",
    "a = np.ones((1, 2, 3))\n",
    "np.transpose(a, (1, 0, 2))  # shape (2,1,3)"
   ],
   "metadata": {
    "collapsed": false
   },
   "id": "fe2861bcab17f242"
  },
  {
   "cell_type": "markdown",
   "source": [
    "#### Flatten data with `.flatten()`"
   ],
   "metadata": {
    "collapsed": false
   },
   "id": "8bdb9396e2ddae14"
  },
  {
   "cell_type": "code",
   "execution_count": null,
   "outputs": [],
   "source": [
    "arr = np.arange(8)\n",
    "arr = np.reshape(arr, (4, 2))  # shape [4,2]\n",
    "flattened = arr.flatten()  # shape: (8,)"
   ],
   "metadata": {
    "collapsed": false
   },
   "id": "c7f9e94abd161b37"
  },
  {
   "cell_type": "markdown",
   "source": [
    "#### Math Functions"
   ],
   "metadata": {
    "collapsed": false
   },
   "id": "d421bd300e8e0c3d"
  },
  {
   "cell_type": "code",
   "execution_count": null,
   "outputs": [],
   "source": [
    "# exp\n",
    "x = np.exp(arr)  # this will return e^arr\n",
    "\n",
    "# log, log2, log10\n",
    "y = np.log(arr)  # this will return log(arr)\n",
    "\n",
    "# power\n",
    "z = np.power(3, arr)  # this will return 3^arr"
   ],
   "metadata": {
    "collapsed": false
   },
   "id": "ab68fbaf8ae2c0b8"
  },
  {
   "cell_type": "markdown",
   "source": [
    "#### Matrix multiplication"
   ],
   "metadata": {
    "collapsed": false
   },
   "id": "7fc20bbfc30659c7"
  },
  {
   "cell_type": "code",
   "execution_count": null,
   "outputs": [],
   "source": [
    "# When both inputs are 1-D, the output is the dot product.\n",
    "arr1 = np.array([1, 2, 3])  # shape (1,3)\n",
    "arr2 = np.array([-3, 0, 10])  # shape (1,3)\n",
    "print(np.matmul(arr1, arr2))  # 27\n",
    "\n",
    "# The dimensions must be valid for a matrix multiplication\n",
    "arr3 = np.array([[1, 2], [3, 4], [5, 6]])  # shape (3,2)\n",
    "arr4 = np.array([[-1, 0, 1], [3, 2, -4]])  # shape (2,3)\n",
    "print(repr(np.matmul(arr3, arr4)))  # shape (3,3)\n",
    "print(repr(np.matmul(arr4, arr3)))  # shape (2,2)"
   ],
   "metadata": {
    "collapsed": false
   },
   "id": "c53ee81dd6a7c3a7"
  },
  {
   "cell_type": "markdown",
   "source": [
    "#### Dot product with `np.dot()`"
   ],
   "metadata": {
    "collapsed": false
   },
   "id": "3b5ee90926de29f5"
  },
  {
   "cell_type": "code",
   "execution_count": null,
   "outputs": [],
   "source": [
    "vector_1 = np.array([1,2,3])\n",
    "vector_2 = np.array([4,5,6])\n",
    "dot_product = np.dot(vector_1,vector_2)"
   ],
   "metadata": {
    "collapsed": false
   },
   "id": "d477803cdfb1a543"
  },
  {
   "cell_type": "markdown",
   "source": [
    "#### Indexing"
   ],
   "metadata": {
    "collapsed": false
   },
   "id": "3c830e66e2310ddb"
  },
  {
   "cell_type": "code",
   "execution_count": null,
   "outputs": [],
   "source": [
    "arr = np.array([1, 2, 3, 4, 5])\n",
    "print(repr(arr[:]))  # array([1, 2, 3, 4, 5])\n",
    "print(repr(arr[1:]))  # [2,3,4,5]\n",
    "print(repr(arr[2:4]))  # [3,4]\n",
    "print(repr(arr[:-1]))  # [1,2,3,4]\n",
    "print(repr(arr[-2:]))  # [4,5]"
   ],
   "metadata": {
    "collapsed": false
   },
   "id": "442804a4caccfbfe"
  },
  {
   "cell_type": "markdown",
   "source": [
    "#### `argmin` and `argmax`"
   ],
   "metadata": {
    "collapsed": false
   },
   "id": "97455f39e4f823e"
  },
  {
   "cell_type": "code",
   "execution_count": null,
   "outputs": [],
   "source": [
    "arr = np.array([[-2, -1, -3],\n",
    "                [4, 5, -6],\n",
    "                [-3, 9, 1]])\n",
    "print(np.argmin(arr[0]))  # 2\n",
    "print(np.argmax(arr[2]))  # 1\n",
    "print(np.argmin(arr))  # 5\n",
    "print(repr(np.argmin(arr, axis=0)))  # [2,0,1]\n",
    "print(repr(np.argmin(arr, axis=1)))  # [2,2,0]\n",
    "print(repr(np.argmin(arr, axis=-1)))  # equal to last dimension, axis=1"
   ],
   "metadata": {
    "collapsed": false
   },
   "id": "a38321debf207840"
  },
  {
   "cell_type": "markdown",
   "source": [
    "#### Filtering data, use basic relation operations, e.g., `==`, `>`, etc., but we can also use `np.where`, `np.any`, and `np.all`"
   ],
   "metadata": {
    "collapsed": false
   },
   "id": "544421350f6c6bf2"
  },
  {
   "cell_type": "code",
   "execution_count": null,
   "outputs": [],
   "source": [
    "arr = np.array([[0, 2, 3],\n",
    "                [1, 3, -6],\n",
    "                [-3, -2, 1]])\n",
    "print(repr(arr == 3))\n",
    "\n",
    "\"\"\"\n",
    "array([[False, False,  True],\n",
    "       [False,  True, False],\n",
    "       [False, False, False]])\n",
    "\"\"\"\n",
    "\n",
    "# more examples\n",
    "print(repr(arr > 0))\n",
    "print(repr(arr != 1))\n",
    "# Negated from the previous step\n",
    "print(repr(~(arr != 1)))\n",
    "\n",
    "# verify isnan\n",
    "arr = np.array([[0, 2, np.nan],\n",
    "                [1, np.nan, -6],\n",
    "                [np.nan, -2, 1]])\n",
    "print(repr(np.isnan(arr)))\n",
    "\n",
    "\"\"\"use np.where\"\"\"\n",
    "# for single array\n",
    "arr = np.array([0, 3, 5, 3, 1])\n",
    "print(repr(np.where(arr == 3)))  # indices (array([1, 3]),)\n",
    "\n",
    "# for 2-d array\n",
    "arr = np.array([[0, 2, 3],\n",
    "                [1, 0, 0],\n",
    "                [-3, 0, 0]])\n",
    "x_ind, y_ind = np.where(arr != 0)\n",
    "print(repr(x_ind)) # x indices of non-zero elements array([0, 0, 1, 2])\n",
    "print(repr(y_ind)) # y indices of non-zero elements array([1, 2, 0, 0])\n",
    "print(repr(arr[x_ind, y_ind]))  # array([ 2,  3,  1, -3])\n",
    "\n",
    "# this will assign true values in np_filter with positives and false with negatives\n",
    "np.where(np_filter, positives, negatives)\n",
    "\n",
    "\"\"\"np.any and np.all \"\"\"\n",
    "arr = np.array([[-2, -1, -3],\n",
    "                [4, 5, -6],\n",
    "                [3, 9, 1]])\n",
    "print(np.any(arr > 0))  # True\n",
    "print(np.all(arr > 0))  # False\n",
    "print(repr(np.any(arr > 0, axis=0)))  # array([ True,  True,  True])\n",
    "print(repr(np.any(arr > 0, axis=1)))  # array([False,  True,  True])\n",
    "print(repr(np.all(arr > 0, axis=1)))  # array([False, False,  True])"
   ],
   "metadata": {
    "collapsed": false
   },
   "id": "1a0af69b6152b00e"
  },
  {
   "cell_type": "markdown",
   "source": [
    "#### Doing some basic statistics\n",
    "- Calculate min and max\n",
    "- Calculate mean, var, std, median"
   ],
   "metadata": {
    "collapsed": false
   },
   "id": "562286088e246b58"
  },
  {
   "cell_type": "code",
   "execution_count": null,
   "outputs": [],
   "source": [
    "# min and max\n",
    "arr.min()\n",
    "arr.max()\n",
    "arr.min(axis=0)\n",
    "arr.max(axis=-1)\n",
    "\n",
    "# simple statistics\n",
    "mean = np.mean(arr)\n",
    "var = np.var(arr)\n",
    "std = np.std(arr)\n",
    "median = np.median(arr, axis=-1)"
   ],
   "metadata": {
    "collapsed": false
   },
   "id": "7f0aeb0c9be5e42c"
  },
  {
   "cell_type": "markdown",
   "source": [
    "#### Aggregation\n",
    "- Summation: `np.sum`, `np.cumsum`\n",
    "- Concatenation: `np.concatenate` or `np.stack`"
   ],
   "metadata": {
    "collapsed": false
   },
   "id": "e9feea6f7ea43996"
  },
  {
   "cell_type": "code",
   "execution_count": null,
   "outputs": [],
   "source": [
    "arr = np.array([[0, 72, 3],\n",
    "                [1, 3, -60],\n",
    "                [-3, -2, 4]])\n",
    "\n",
    "# ==========\n",
    "# sum\n",
    "np.sum(arr)\n",
    "print(np.sum(arr, axis=0))  # [-2, 73, -53]\n",
    "\n",
    "# ==========\n",
    "# cumsum: return the cumulative sums for the lattened array\n",
    "print(repr(np.cumsum(arr)))\n",
    "print(repr(np.cumsum(arr, axis=0)))\n",
    "print(repr(np.cumsum(arr, axis=1)))\n",
    "\n",
    "\"\"\"\n",
    "array([ 0, 72, 75, 76, 79, 19, 16, 14, 18])\n",
    "array([[  0,  72,   3],\n",
    "       [  1,  75, -57],\n",
    "       [ -2,  73, -53]])\n",
    "array([[  0,  72,  75],\n",
    "       [  1,   4, -56],\n",
    "       [ -3,  -5,  -1]])\n",
    "\"\"\"\n",
    "\n",
    "# ==========\n",
    "# concatenation\n",
    "arr1 = np.array([[0, 72, 3],\n",
    "                 [1, 3, -60],\n",
    "                 [-3, -2, 4]])\n",
    "arr2 = np.array([[-15, 6, 1],\n",
    "                 [8, 9, -4],\n",
    "                 [5, -21, 18]])\n",
    "\n",
    "print(repr(np.concatenate([arr1, arr2]).shape))  # 6, 3\n",
    "print(repr(np.concatenate([arr1, arr2], axis=1).shape))  # 3, 6\n",
    "\n",
    "# stack\n",
    "# stacks two arrays along a new axis\n",
    "print(repr(np.stack([arr1, arr2]).shape))  # 2, 3, 3\n",
    "print(repr(np.stack([arr1, arr2], axis=1).shape))  # 3, 2, 3"
   ],
   "metadata": {
    "collapsed": false
   },
   "id": "c7197e4fdf114c2a"
  },
  {
   "cell_type": "markdown",
   "source": [
    "#### Finding eigenvalues and eigenvectors"
   ],
   "metadata": {
    "collapsed": false
   },
   "id": "d3a100be790fe703"
  },
  {
   "cell_type": "code",
   "execution_count": 15,
   "outputs": [],
   "source": [
    "matrix = np.array([[1,2,3],[4,5,6],[7,8,9]])\n",
    "eigenvalues ,eigenvectors=np.linalg.eig(matrix)\n",
    "\n",
    "# Calculate covariance function\n",
    "cov = np.cov(matrix)"
   ],
   "metadata": {
    "collapsed": false,
    "ExecuteTime": {
     "end_time": "2024-03-18T09:02:30.692952Z",
     "start_time": "2024-03-18T09:02:30.652415Z"
    }
   },
   "id": "f115dc3ac5fda3a6"
  },
  {
   "cell_type": "code",
   "execution_count": null,
   "outputs": [],
   "source": [],
   "metadata": {
    "collapsed": false
   },
   "id": "2e006c379b53e01c"
  }
 ],
 "metadata": {
  "kernelspec": {
   "display_name": "Python 3",
   "language": "python",
   "name": "python3"
  },
  "language_info": {
   "codemirror_mode": {
    "name": "ipython",
    "version": 2
   },
   "file_extension": ".py",
   "mimetype": "text/x-python",
   "name": "python",
   "nbconvert_exporter": "python",
   "pygments_lexer": "ipython2",
   "version": "2.7.6"
  }
 },
 "nbformat": 4,
 "nbformat_minor": 5
}
