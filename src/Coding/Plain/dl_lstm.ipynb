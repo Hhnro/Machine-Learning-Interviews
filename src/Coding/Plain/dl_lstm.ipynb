{
 "cells": [
  {
   "cell_type": "markdown",
   "id": "21b40105c2c106b3",
   "metadata": {
    "collapsed": false
   },
   "source": [
    "# LSTM example"
   ]
  },
  {
   "cell_type": "markdown",
   "id": "1f8af263fd4599b3",
   "metadata": {
    "collapsed": false
   },
   "source": [
    "Input Gate $i_t$: decides what new information should be added to the cell state\n",
    "\n",
    "$f_t=\\sigma(W_f \\cdot [h_{t-1}, x_t]+b_f)$\n",
    "\n",
    "\n",
    "Forget Gate $f_t$: decides what information should be discarded from the cell state\n",
    "\n",
    "$i_t=\\sigma(W_i \\cdot [h_{t-1},x_t ]+b_i)$\n",
    "\n",
    "\n",
    "Candidate Cell state $\\tilde{C}_t$: creates a candidate vector to add to the cell state\n",
    "\n",
    "$\\tilde{C}_t = tanh(W_c\\cdot [ h_{t-1}, x_t ] + b_c)$\n",
    "\n",
    "\n",
    "Cell State Update $C_t$: updates the old cell state by forgetting the things decided to forget and adding the new candidate values\n",
    "\n",
    "$C_t=f_t * C_{t-1}+ i_t * \\tilde{C}_t$\n",
    "\n",
    "\n",
    "Output Gate $o_t$: decides what parts of the cell state we're going to output.\n",
    "\n",
    "$o_t=\\sigma(W_o \\cdot [h_{t-1}, x_t]+b_o)$\n",
    "\n",
    "\n",
    "Hidden State Update $h_t$: updates the hidden state which is also the output of the LSTM unit at time step $t$.\n",
    "\n",
    "$h_t=o_t * tanh(C_t)$\n"
   ]
  },
  {
   "cell_type": "code",
   "execution_count": 9,
   "id": "baffa107fdabf199",
   "metadata": {
    "ExecuteTime": {
     "end_time": "2024-03-19T00:33:25.333456Z",
     "start_time": "2024-03-19T00:33:25.322179Z"
    },
    "collapsed": false
   },
   "outputs": [
    {
     "name": "stdout",
     "output_type": "stream",
     "text": [
      "Output of the last time step: [0.79092756 0.38927816 0.07842032 0.59984175 2.35535945]\n"
     ]
    }
   ],
   "source": [
    "import numpy as np\n",
    "\n",
    "class LSTM:\n",
    "    def __init__(self, input_dim, hidden_dim, output_dim):\n",
    "        self.input_dim = input_dim\n",
    "        self.hidden_dim = hidden_dim\n",
    "        self.output_dim = output_dim\n",
    "\n",
    "        # Initialize weights\n",
    "        self.Wf = np.random.randn(hidden_dim, hidden_dim + input_dim)\n",
    "        self.Wi = np.random.randn(hidden_dim, hidden_dim + input_dim)\n",
    "        self.Wc = np.random.randn(hidden_dim, hidden_dim + input_dim)\n",
    "        self.Wo = np.random.randn(hidden_dim, hidden_dim + input_dim)\n",
    "        self.Wy = np.random.randn(output_dim, hidden_dim)\n",
    "\n",
    "        # Initialize biases\n",
    "        self.bf = np.zeros(hidden_dim)\n",
    "        self.bi = np.zeros(hidden_dim)\n",
    "        self.bc = np.zeros(hidden_dim)\n",
    "        self.bo = np.zeros(hidden_dim)\n",
    "        self.by = np.zeros(output_dim)\n",
    "\n",
    "    def sigmoid(self, x):\n",
    "        return 1 / (1 + np.exp(-x))\n",
    "\n",
    "    def tanh(self, x):\n",
    "        return np.tanh(x)\n",
    "\n",
    "    def forward_pass(self, inputs):\n",
    "        \"\"\"\n",
    "        Forward pass through LSTM for a sequence of inputs.\n",
    "        Returns the output and the final hidden and cell states.\n",
    "        \"\"\"\n",
    "        h_prev = np.zeros(self.hidden_dim)\n",
    "        c_prev = np.zeros(self.hidden_dim)\n",
    "\n",
    "        outputs = []\n",
    "\n",
    "        for x_t in inputs:\n",
    "            combined = np.concatenate((h_prev, x_t), axis=0)\n",
    "\n",
    "            # Forget gate\n",
    "            f_t = self.sigmoid(np.dot(self.Wf, combined) + self.bf)\n",
    "\n",
    "            # Input gate\n",
    "            i_t = self.sigmoid(np.dot(self.Wi, combined) + self.bi)\n",
    "            C_tilde = self.tanh(np.dot(self.Wc, combined) + self.bc)\n",
    "\n",
    "            # Update cell state\n",
    "            c_t = f_t * c_prev + i_t * C_tilde\n",
    "\n",
    "            # Output gate\n",
    "            o_t = self.sigmoid(np.dot(self.Wo, combined) + self.bo)\n",
    "\n",
    "            # Update hidden state\n",
    "            h_t = o_t * self.tanh(c_t)\n",
    "\n",
    "            # Compute output\n",
    "            y_t = np.dot(self.Wy, h_t) + self.by\n",
    "            outputs.append(y_t)\n",
    "\n",
    "            h_prev, c_prev = h_t, c_t\n",
    "\n",
    "        return outputs, h_t, c_t\n",
    "\n",
    "# Example usage\n",
    "if __name__ == \"__main__\":\n",
    "    np.random.seed(0)  # For reproducibility\n",
    "    \n",
    "    # Dummy input (sequence length = 5, input dimension = 10)\n",
    "    inputs = [np.random.randn(10) for _ in range(5)]\n",
    "\n",
    "    # Initialize LSTM\n",
    "    lstm = LSTM(input_dim=10, hidden_dim=20, output_dim=5)\n",
    "\n",
    "    # Forward pass\n",
    "    outputs, h, c = lstm.forward_pass(inputs)\n",
    "\n",
    "    print(\"Output of the last time step:\", outputs[-1].reshape(-1))\n"
   ]
  }
 ],
 "metadata": {
  "kernelspec": {
   "display_name": "Python 3",
   "language": "python",
   "name": "python3"
  },
  "language_info": {
   "codemirror_mode": {
    "name": "ipython",
    "version": 2
   },
   "file_extension": ".py",
   "mimetype": "text/x-python",
   "name": "python",
   "nbconvert_exporter": "python",
   "pygments_lexer": "ipython2",
   "version": "2.7.6"
  }
 },
 "nbformat": 4,
 "nbformat_minor": 5
}
