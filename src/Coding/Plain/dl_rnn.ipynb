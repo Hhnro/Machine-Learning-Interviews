{
 "cells": [
  {
   "cell_type": "markdown",
   "source": [
    "# Recurrent Neural Networks"
   ],
   "metadata": {
    "collapsed": false
   },
   "id": "95ab6d392f335628"
  },
  {
   "cell_type": "markdown",
   "source": [
    "Hidden State Update: \n",
    "\n",
    "$h_t=tanh(W_{hh}h_{t-1}+W_{xh}x_t+b_{h})$\n",
    "\n",
    "\n",
    "Output:\n",
    "\n",
    "$y_t=W_{hy}h_t+b_y$\n"
   ],
   "metadata": {
    "collapsed": false
   },
   "id": "d09be95e6b1a12c9"
  },
  {
   "cell_type": "code",
   "execution_count": 3,
   "outputs": [
    {
     "name": "stdout",
     "output_type": "stream",
     "text": [
      "[4, 9, 5, 0, 1, 3]\n",
      "Output of the last time step: [[0.00028739 0.00032804]]\n"
     ]
    }
   ],
   "source": [
    "import numpy as np\n",
    "\n",
    "class SimpleRNN:\n",
    "    def __init__(self, input_size, hidden_size, output_size):\n",
    "        # Initialize weights\n",
    "        self.Wxh = np.random.randn(hidden_size, input_size) * 0.01  # input to hidden\n",
    "        self.Whh = np.random.randn(hidden_size, hidden_size) * 0.01  # hidden to hidden\n",
    "        self.Why = np.random.randn(output_size, hidden_size) * 0.01  # hidden to output\n",
    "        self.bh = np.zeros((hidden_size, 1))  # hidden bias\n",
    "        self.by = np.zeros((output_size, 1))  # output bias\n",
    "\n",
    "    def forward(self, inputs):\n",
    "        \"\"\"\n",
    "        inputs -- list of integers, where each integer is a discrete value representing an input\n",
    "        \"\"\"\n",
    "        h = np.zeros((self.Whh.shape[0], 1))  # Initial hidden state\n",
    "        outputs = []\n",
    "\n",
    "        for x in inputs:\n",
    "            x_vector = np.zeros((self.Wxh.shape[1], 1))\n",
    "            x_vector[x] = 1  # Convert to one-hot encoding\n",
    "            \n",
    "            # Update the hidden state\n",
    "            h = np.tanh(np.dot(self.Wxh, x_vector) + np.dot(self.Whh, h) + self.bh)\n",
    "            \n",
    "            # Compute the output\n",
    "            y = np.dot(self.Why, h) + self.by\n",
    "            outputs.append(y)\n",
    "        \n",
    "        return outputs, h\n",
    "\n",
    "# Example usage\n",
    "if __name__ == \"__main__\":\n",
    "    # Create a simple RNN instance\n",
    "    rnn = SimpleRNN(input_size=10, hidden_size=5, output_size=2)\n",
    "    \n",
    "    # Example input sequence (e.g., one-hot encoded words or characters)\n",
    "    inputs = [np.random.randint(0, 10) for _ in range(6)]\n",
    "    \n",
    "    # Forward pass\n",
    "    outputs, last_hidden_state = rnn.forward(inputs)\n",
    "    \n",
    "    print(\"Output of the last time step:\", outputs[-1].T)\n"
   ],
   "metadata": {
    "collapsed": false,
    "ExecuteTime": {
     "end_time": "2024-03-19T00:26:44.231359Z",
     "start_time": "2024-03-19T00:26:44.215054Z"
    }
   },
   "id": "124344aae072a77f"
  },
  {
   "cell_type": "code",
   "execution_count": null,
   "outputs": [],
   "source": [],
   "metadata": {
    "collapsed": false
   },
   "id": "70b6e32438d1026f"
  },
  {
   "cell_type": "code",
   "execution_count": null,
   "outputs": [],
   "source": [],
   "metadata": {
    "collapsed": false
   },
   "id": "e1e1e42a74dd53e0"
  }
 ],
 "metadata": {
  "kernelspec": {
   "display_name": "Python 3",
   "language": "python",
   "name": "python3"
  },
  "language_info": {
   "codemirror_mode": {
    "name": "ipython",
    "version": 2
   },
   "file_extension": ".py",
   "mimetype": "text/x-python",
   "name": "python",
   "nbconvert_exporter": "python",
   "pygments_lexer": "ipython2",
   "version": "2.7.6"
  }
 },
 "nbformat": 4,
 "nbformat_minor": 5
}
