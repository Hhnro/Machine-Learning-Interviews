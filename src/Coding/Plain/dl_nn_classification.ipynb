{
 "cells": [
  {
   "cell_type": "markdown",
   "source": [
    "# A classification neural network\n",
    "\n",
    "### 2 layers, sigmoid activation function, softmax activation function, cross-entropy loss"
   ],
   "metadata": {
    "collapsed": false
   },
   "id": "f203ce984ece3de0"
  },
  {
   "cell_type": "code",
   "execution_count": null,
   "outputs": [],
   "source": [
    "import numpy as np\n",
    "\n",
    "\n",
    "def sigmoid(x):\n",
    "    return 1 / (1 + np.exp(-x))\n",
    "\n",
    "\n",
    "def sigmoid_derivative(x):\n",
    "    return sigmoid(x) * (1 - sigmoid(x))\n",
    "\n",
    "\n",
    "# Define the softmax function\n",
    "def softmax(x):\n",
    "    e_x = np.exp(x - np.max(x, axis=1, keepdims=True))\n",
    "    return e_x / np.sum(e_x, axis=1, keepdims=True)\n",
    "\n",
    "\n",
    "# Define the cross-entropy loss and its derivative\n",
    "def cross_entropy_loss(y_true, y_pred):\n",
    "    # To prevent division by zero\n",
    "    epsilon = 1e-15\n",
    "    y_pred = np.clip(y_pred, epsilon, 1 - epsilon)\n",
    "    return -np.mean(np.sum(y_true * np.log(y_pred), axis=1))\n",
    "\n",
    "\n",
    "def cross_entropy_derivative(y_true, y_pred):\n",
    "    # To prevent division by zero\n",
    "    epsilon = 1e-15\n",
    "    y_pred = np.clip(y_pred, epsilon, 1 - epsilon)\n",
    "    return -y_true / y_pred\n",
    "\n",
    "\n",
    "# Initialize the network parameters\n",
    "input_size = 3  # size of the input layer\n",
    "hidden_size = 4  # size of the hidden layer\n",
    "output_size = 2  # size of the output layer (assuming binary classification)\n",
    "\n",
    "np.random.seed(42)  # Seed for reproducibility\n",
    "W1 = np.random.randn(input_size, hidden_size)  # Weights for input to hidden layer\n",
    "b1 = np.zeros(hidden_size)  # Biases for hidden layer\n",
    "W2 = np.random.randn(hidden_size, output_size)  # Weights for hidden to output layer\n",
    "b2 = np.zeros(output_size)  # Biases for output layer\n",
    "\n",
    "\n",
    "# Forward pass of the network\n",
    "def forward_pass(X):\n",
    "    Z1 = np.dot(X, W1) + b1\n",
    "    A1 = sigmoid(Z1)\n",
    "    Z2 = np.dot(A1, W2) + b2\n",
    "    A2 = softmax(Z2)\n",
    "    return Z1, A1, Z2, A2\n",
    "\n",
    "\n",
    "# Backward pass of the network\n",
    "def backward_pass(X, Y, Z1, A1, Z2, A2):\n",
    "    # Calculate the loss\n",
    "    loss = cross_entropy_loss(Y, A2)\n",
    "\n",
    "    # Calculate the gradient of the loss with respect to Z2 (A2)\n",
    "    dLoss_dA2 = cross_entropy_derivative(Y, A2)\n",
    "\n",
    "    # Calculate the gradient with respect to W2 and b2\n",
    "    # For softmax and cross-entropy combined, the derivative simplifies to A2 - Y\n",
    "    dLoss_dZ2 = A2 - Y\n",
    "    dLoss_dW2 = np.dot(A1.T, dLoss_dZ2)\n",
    "    dLoss_db2 = np.sum(dLoss_dZ2, axis=0)\n",
    "\n",
    "    # Calculate the gradient with respect to A1\n",
    "    dLoss_dA1 = np.dot(dLoss_dZ2, W2.T)\n",
    "\n",
    "    # Calculate the gradient with respect to Z1\n",
    "    dLoss_dZ1 = dLoss_dA1 * sigmoid_derivative(Z1)\n",
    "\n",
    "    # Calculate the gradient with respect to W1 and b1\n",
    "    dLoss_dW1 = np.dot(X.T, dLoss_dZ1)\n",
    "    dLoss_db1 = np.sum(dLoss_dZ1, axis=0)\n",
    "\n",
    "    return loss, dLoss_dW1, dLoss_db1, dLoss_dW2, dLoss_db2"
   ],
   "metadata": {
    "collapsed": false
   },
   "id": "633e57d66c5163de"
  }
 ],
 "metadata": {
  "kernelspec": {
   "display_name": "Python 3",
   "language": "python",
   "name": "python3"
  },
  "language_info": {
   "codemirror_mode": {
    "name": "ipython",
    "version": 2
   },
   "file_extension": ".py",
   "mimetype": "text/x-python",
   "name": "python",
   "nbconvert_exporter": "python",
   "pygments_lexer": "ipython2",
   "version": "2.7.6"
  }
 },
 "nbformat": 4,
 "nbformat_minor": 5
}
