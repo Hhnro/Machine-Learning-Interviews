{
 "cells": [
  {
   "cell_type": "markdown",
   "source": [
    "## Load data"
   ],
   "metadata": {
    "collapsed": false
   },
   "id": "ce1deeb947751152"
  },
  {
   "cell_type": "markdown",
   "source": [
    "#### Without using third party packages\n",
    "- Load file\n",
    "- Load csv\n",
    "- Load JSON\n",
    "- Load txt"
   ],
   "metadata": {
    "collapsed": false
   },
   "id": "4e3142e843ae2ba"
  },
  {
   "cell_type": "code",
   "execution_count": null,
   "outputs": [],
   "source": [
    "def load_txt(file_name):\n",
    "    f_data = []\n",
    "    with open(file_name, 'r') as f:\n",
    "        for line in f:\n",
    "            f_data.append(line)"
   ],
   "metadata": {
    "collapsed": false
   },
   "id": "7a019cb92e69f1ed"
  },
  {
   "cell_type": "code",
   "execution_count": null,
   "outputs": [],
   "source": [
    "# Load data from a CSV file\n",
    "def load_csv_data(file_path):\n",
    "    data = []\n",
    "    with open(file_path, 'r') as file:\n",
    "        lines = file.readlines()\n",
    "        for line in lines:\n",
    "            data.append(line.strip().split(','))\n",
    "    return data\n",
    "\n",
    "# Load data from a JSON file\n",
    "def load_json_data(file_path):\n",
    "    import json\n",
    "    with open(file_path, 'r') as file:\n",
    "        data = json.load(file)\n",
    "    return data\n",
    "\n",
    "# Load data from a text file\n",
    "def load_text_data(file_path):\n",
    "    data = []\n",
    "    with open(file_path, 'r') as file:\n",
    "        lines = file.readlines()\n",
    "        for line in lines:\n",
    "            data.append(line.strip())\n",
    "    return data\n",
    "\n",
    "# Usage examples\n",
    "csv_data = load_csv_data('data.csv')\n",
    "json_data = load_json_data('data.json')\n",
    "text_data = load_text_data('data.txt')"
   ],
   "metadata": {
    "collapsed": false
   },
   "id": "8a91d48e2ae48883"
  },
  {
   "cell_type": "code",
   "execution_count": null,
   "outputs": [],
   "source": [],
   "metadata": {
    "collapsed": false
   },
   "id": "a8c159d920c6d229"
  }
 ],
 "metadata": {
  "kernelspec": {
   "display_name": "Python 3",
   "language": "python",
   "name": "python3"
  },
  "language_info": {
   "codemirror_mode": {
    "name": "ipython",
    "version": 2
   },
   "file_extension": ".py",
   "mimetype": "text/x-python",
   "name": "python",
   "nbconvert_exporter": "python",
   "pygments_lexer": "ipython2",
   "version": "2.7.6"
  }
 },
 "nbformat": 4,
 "nbformat_minor": 5
}
