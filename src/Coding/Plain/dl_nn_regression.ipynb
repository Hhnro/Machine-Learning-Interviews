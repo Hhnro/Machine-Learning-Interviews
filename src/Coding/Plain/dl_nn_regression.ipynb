{
 "cells": [
  {
   "cell_type": "markdown",
   "source": [
    "# A regression neural network\n",
    "### 2 layers, ReLU as activation function, MSE loss"
   ],
   "metadata": {
    "collapsed": false
   },
   "id": "e33dfce08146452e"
  },
  {
   "cell_type": "code",
   "execution_count": null,
   "outputs": [],
   "source": [
    "import numpy as np\n",
    "\n",
    "# for activation function relu\n",
    "def relu(x):\n",
    "    return np.maximum(0, x)\n",
    "\n",
    "def relu_derivative(x):\n",
    "    return np.where(x > 0, 1.0, 0.0)\n",
    "\n",
    "# for loss function mse\n",
    "def mse_loss(y_true, y_pred):\n",
    "\t\treturn ((y_true - y_pred) ** 2).mean()\n",
    "\n",
    "def mse_derivative(y_true, y_pred):\n",
    "\t\treturn 2 * (y_pred - y_true) / y_true.size \n",
    "\n",
    "\n",
    "class NeuralNetwork:\n",
    "    def __init__(self, input_dim, hidden_dim, output_dim):\n",
    "        self.w1 = np.random.rand(input_dim, hidden_dim)\n",
    "        self.b1 = np.zeros(hidden_dim)\n",
    "        self.w2 = np.random.rand(hidden_dim, output_dim)\n",
    "        self.b2 = np.zeros(output_dim)\n",
    "\n",
    "    def forward_pass(self, x):\n",
    "        \"\"\"\n",
    "        :param x: input with size (batch_size, input_dim)\n",
    "        :param w1: layer 1 weights (input_dim, hidden_dim)\n",
    "        :param b1: layer 1 bias (batch_size, hidden_dim)\n",
    "        :param w2: layer 2 weights (hidden_dim, output_dim)\n",
    "        :param b2: layer 2 bias (batch_size, output_dim)\n",
    "        :return: predicted_y with size (batch_size, output_dim)\n",
    "        \"\"\"\n",
    "        layer1 = np.matmul(x, self.w1) + self.b1\n",
    "        activated_layer1 = relu(layer1)\n",
    "        pred_y = np.matmul(activated_layer1, self.w2) + self.b2\n",
    "\n",
    "        return pred_y, layer1, activated_layer1\n",
    "\n",
    "    def backward_pass(self, lr, x, y_true, y_pred, layer1, activated_layer1):\n",
    "        loss = mse_loss(y_true, y_pred)\n",
    "\n",
    "        # gradient y_pred\n",
    "        dloss_dy_pred = mse_derivative(y_true, y_pred)  # (batch_size, output_dim)\n",
    "\n",
    "        # gradient w2\n",
    "        dloss_dw2 = np.dot(np.transpose(activated_layer1), dloss_dy_pred)  # (hidden_dim, output_dim)\n",
    "\n",
    "        # gradient bias b2\n",
    "        dloss_db2 = np.sum(dloss_dy_pred, axis=0)\n",
    "\n",
    "        # gradient activated_layer1\n",
    "        dloss_dactivated_layer1 = np.dot(dloss_dy_pred, np.transpose(self.w2))   # (batch_size, hidden_dim)\n",
    "\n",
    "        # gradient layer1\n",
    "        dloss_dlayer1 = dloss_dactivated_layer1 * relu_derivative(layer1)  # (batch_size, hidden_dim)\n",
    "\n",
    "        # gradient w1\n",
    "        dloss_dw1 = np.dot(np.transpose(x), dloss_dlayer1)\n",
    "\n",
    "        # gradient b1\n",
    "        dloss_db1 = np.sum(dloss_dlayer1, axis=0)\n",
    "\n",
    "        self.w2 -= lr * dloss_dw2\n",
    "        self.b2 -= lr * dloss_db2\n",
    "        self.w1 -= lr * dloss_dw1\n",
    "        self.b1 -= lr * dloss_db1\n",
    "\n",
    "    def training_loop(self, x, y, iteration, lr):\n",
    "        for i in range(iteration):\n",
    "            pred_y, layer1, activated_layer1 = self.forward_pass(x)\n",
    "            self.backward_pass(lr, x, y, pred_y, layer1, activated_layer1)"
   ],
   "metadata": {
    "collapsed": false
   },
   "id": "57c849b0fb68139e"
  }
 ],
 "metadata": {
  "kernelspec": {
   "display_name": "Python 3",
   "language": "python",
   "name": "python3"
  },
  "language_info": {
   "codemirror_mode": {
    "name": "ipython",
    "version": 2
   },
   "file_extension": ".py",
   "mimetype": "text/x-python",
   "name": "python",
   "nbconvert_exporter": "python",
   "pygments_lexer": "ipython2",
   "version": "2.7.6"
  }
 },
 "nbformat": 4,
 "nbformat_minor": 5
}
