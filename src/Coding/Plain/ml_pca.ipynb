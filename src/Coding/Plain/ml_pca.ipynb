{
 "cells": [
  {
   "cell_type": "code",
   "execution_count": null,
   "id": "initial_id",
   "metadata": {
    "collapsed": true
   },
   "outputs": [],
   "source": [
    "import numpy as np\n",
    "\n",
    "def pca(X, num_components):\n",
    "    \"\"\"\n",
    "    X is the original data matrix with shape (n_samples, n_features)\n",
    "    num_components is the number of principal components you want to keep\n",
    "    X_reduced will be the data transformed with 'num_components' features\n",
    "    \"\"\"\n",
    "    # Step 1: Standardize the dataset\n",
    "    X_standardized = (X - np.mean(X, axis=0)) / np.std(X, axis=0)  # n_samples, n_features\n",
    "\n",
    "    # Step 2: Compute the covariance matrix\n",
    "    covariance_matrix = np.cov(X_standardized.T)  # \n",
    "\n",
    "    # Step 3: Compute the eigenvalues and eigenvectors\n",
    "    eigenvalues, eigenvectors = np.linalg.eig(covariance_matrix)\n",
    "\n",
    "    # Step 4: Sort eigenvalues and eigenvectors\n",
    "    sorted_indices = np.argsort(eigenvalues)[::-1]\n",
    "    sorted_eigenvalues = eigenvalues[sorted_indices]\n",
    "    sorted_eigenvectors = eigenvectors[:, sorted_indices]\n",
    "\n",
    "    # Step 5: Choose the top 'num_components' eigenvectors\n",
    "    eigenvector_subset = sorted_eigenvectors[:, 0:num_components]\n",
    "\n",
    "    # Step 6: Transform the data\n",
    "    X_reduced = np.dot(eigenvector_subset.T, X_standardized.T).T\n",
    "\n",
    "    return X_reduced"
   ]
  }
 ],
 "metadata": {
  "kernelspec": {
   "display_name": "Python 3",
   "language": "python",
   "name": "python3"
  },
  "language_info": {
   "codemirror_mode": {
    "name": "ipython",
    "version": 2
   },
   "file_extension": ".py",
   "mimetype": "text/x-python",
   "name": "python",
   "nbconvert_exporter": "python",
   "pygments_lexer": "ipython2",
   "version": "2.7.6"
  }
 },
 "nbformat": 4,
 "nbformat_minor": 5
}
