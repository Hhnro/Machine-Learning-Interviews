{
 "cells": [
  {
   "cell_type": "markdown",
   "source": [
    "# Linear Regression"
   ],
   "metadata": {
    "collapsed": false
   },
   "id": "56e8a9186c46449d"
  },
  {
   "cell_type": "code",
   "execution_count": null,
   "outputs": [],
   "source": [
    "import numpy as np"
   ],
   "metadata": {
    "collapsed": false
   },
   "id": "aeda31953ee0a4a3"
  },
  {
   "cell_type": "markdown",
   "source": [
    "## Simplest case: $y = wx + b$\n",
    "\n",
    "#### Estimate by directly calculation\n",
    "- $w = \\sum((x - x_{mean}) * (y - y_{mean})) / \\sum((x - x_{mean})^2)$  \n",
    "- $b =  y_{mean} - w * x_{mean}$"
   ],
   "metadata": {
    "collapsed": false
   },
   "id": "cc8e8ab9b753bdb6"
  },
  {
   "cell_type": "code",
   "execution_count": null,
   "outputs": [],
   "source": [
    "class LinearRegression1d:\n",
    "    def __init__(self):\n",
    "        self.weights = None\n",
    "        self.bias = None\n",
    "    \n",
    "    def fit(self, x, y):\n",
    "        \"\"\"\n",
    "        :param x: shape (n, )\n",
    "        :param y: shape (n, )\n",
    "        :return: update self.weights and self.bias\n",
    "        \"\"\"\n",
    "        x_mean = np.mean(x)\n",
    "        y_mean = np.mean(y)\n",
    "        numerator = np.sum((x - x_mean) * (y - y_mean))\n",
    "        denominator = np.sum((x - x_mean)**2)\n",
    "        self.weights = numerator / denominator\n",
    "        self.bias = y_mean - self.weights * x_mean\n",
    "\n",
    "    def predict(self, x):\n",
    "        return self.weights * x + self.bias"
   ],
   "metadata": {
    "collapsed": false
   },
   "id": "27d8df6346a38b12"
  },
  {
   "cell_type": "markdown",
   "source": [
    "## A little bit more complex: $y=Wx + b$, suppose $y=\\beta x$\n",
    "- $\\beta=(X^T X)^{-1}X^T y$\n"
   ],
   "metadata": {
    "collapsed": false
   },
   "id": "bdf2bcb2f9b5e5c2"
  },
  {
   "cell_type": "code",
   "execution_count": null,
   "outputs": [],
   "source": [
    "class LinearRegressionHD:\n",
    "    def __init__(self):\n",
    "        self.weights = None\n",
    "    \n",
    "    def fit(self, X, y):\n",
    "        # Add a column of ones to X for bias term\n",
    "        X = np.insert(X, 0, 1, axis=1)\n",
    "        \n",
    "        # Calculate weights using the normal equation\n",
    "        self.weights = np.dot(np.dot(np.linalg.inv(np.dot(X.T, X)), X.T), y)\n",
    "        \n",
    "    def predict(self, X):\n",
    "        # Add a column of ones to X for bias term\n",
    "        X = np.insert(X, 0, 1, axis=1)\n",
    "        y_pred = np.dot(X, self.weights)\n",
    "        return y_pred"
   ],
   "metadata": {
    "collapsed": false
   },
   "id": "d01d69e099a0dcdc"
  },
  {
   "cell_type": "markdown",
   "source": [
    "## Linear regression with gradient descent\n",
    "Suppose loss is squared loss, i.e., $(y-\\hat{y})^2$"
   ],
   "metadata": {
    "collapsed": false
   },
   "id": "5500e2aaf344beb1"
  },
  {
   "cell_type": "code",
   "execution_count": null,
   "outputs": [],
   "source": [
    "import numpy as np\n",
    "\n",
    "class LinearRegression:\n",
    "    def __init__(self, learning_rate=0.01, iterations=1000):\n",
    "        self.learning_rate = learning_rate\n",
    "        self.iterations = iterations\n",
    "        self.weights = None\n",
    "        self.bias = None\n",
    "    \n",
    "    def fit(self, X, y):\n",
    "        n_samples, n_features = X.shape\n",
    "        self.weights = np.zeros(n_features)\n",
    "        self.bias = 0\n",
    "        \n",
    "        # Gradient descent\n",
    "        for _ in range(self.iterations):\n",
    "            model = np.dot(X, self.weights) + self.bias\n",
    "            dw = (1 / n_samples) * np.dot(X.T, (model - y))\n",
    "            db = (1 / n_samples) * np.sum(model - y)\n",
    "            \n",
    "            self.weights -= self.learning_rate * dw\n",
    "            self.bias -= self.learning_rate * db\n",
    "    \n",
    "    def predict(self, X):\n",
    "        return np.dot(X, self.weights) + self.bias\n",
    "\n",
    "# Example usage:\n",
    "# X_train is the input training data\n",
    "# y_train is the target training data\n",
    "regressor = LinearRegression(learning_rate=0.01, iterations=1000)\n",
    "regressor.fit(X_train, y_train)\n",
    "predictions = regressor.predict(X_test)"
   ],
   "metadata": {
    "collapsed": false
   },
   "id": "72666e7242fd3a4f"
  }
 ],
 "metadata": {
  "kernelspec": {
   "display_name": "Python 3",
   "language": "python",
   "name": "python3"
  },
  "language_info": {
   "codemirror_mode": {
    "name": "ipython",
    "version": 2
   },
   "file_extension": ".py",
   "mimetype": "text/x-python",
   "name": "python",
   "nbconvert_exporter": "python",
   "pygments_lexer": "ipython2",
   "version": "2.7.6"
  }
 },
 "nbformat": 4,
 "nbformat_minor": 5
}
