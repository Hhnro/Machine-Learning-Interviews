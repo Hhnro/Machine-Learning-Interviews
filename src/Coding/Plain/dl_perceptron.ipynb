{
 "cells": [
  {
   "attachments": {},
   "cell_type": "markdown",
   "metadata": {},
   "source": [
    "# Perceptron Learning\n",
    "\n",
    "$y=wx+b$\n",
    "\n",
    "- if $\\hat{y}>0$, then $\\hat{y}=1$\n",
    "- else: $\\hat{y}=0$\n",
    "\n",
    "The weights only updates for wrong samples, thus\n",
    "- $w_i = w_i + lr \\times (y-\\hat{y}) * x_i$\n",
    "- $b_i = b_i + lr\\times (y-\\hat{y})$\n"
   ]
  },
  {
   "cell_type": "code",
   "execution_count": 2,
   "metadata": {
    "ExecuteTime": {
     "end_time": "2024-03-18T23:10:19.358075Z",
     "start_time": "2024-03-18T23:10:19.136887Z"
    }
   },
   "outputs": [
    {
     "name": "stdout",
     "output_type": "stream",
     "text": [
      "Predictions: [0, 1, 1, 1]\n"
     ]
    }
   ],
   "source": [
    "class Perceptron:\n",
    "    def __init__(self, learning_rate=0.1, n_iterations=1000):\n",
    "        self.learning_rate = learning_rate\n",
    "        self.n_iterations = n_iterations\n",
    "        self.weights = None\n",
    "        self.bias = None\n",
    "\n",
    "    def fit(self, X, y):\n",
    "        n_samples, n_features = X.shape\n",
    "        self.weights = [0.0 for _ in range(n_features)]\n",
    "        self.bias = 0.0\n",
    "\n",
    "        for _ in range(self.n_iterations):\n",
    "            for idx, x_i in enumerate(X):\n",
    "                linear_output = self._calculate_linear_output(x_i)\n",
    "                y_predicted = self._step_function(linear_output)\n",
    "                update = self.learning_rate * (y[idx] - y_predicted)\n",
    "                self.weights = [w + update * x_ij for w, x_ij in zip(self.weights, x_i)]\n",
    "                self.bias += update\n",
    "\n",
    "    def predict(self, X):\n",
    "        linear_outputs = [self._calculate_linear_output(x) for x in X]\n",
    "        return [self._step_function(output) for output in linear_outputs]\n",
    "\n",
    "    def _calculate_linear_output(self, x):\n",
    "        return sum(w * x_i for w, x_i in zip(self.weights, x)) + self.bias\n",
    "\n",
    "    def _step_function(self, x):\n",
    "        return 1 if x >= 0 else 0\n",
    "\n",
    "# Example usage\n",
    "if __name__ == \"__main__\":\n",
    "    import numpy as np\n",
    "    # Example data - OR function\n",
    "    X = np.array([[0, 0], [0, 1], [1, 0], [1, 1]])\n",
    "    y = np.array([0, 1, 1, 1])  # OR function output\n",
    "\n",
    "    p = Perceptron(learning_rate=0.1, n_iterations=10)\n",
    "    p.fit(X, y)\n",
    "    predictions = p.predict(X)\n",
    "\n",
    "    print(f\"Predictions: {predictions}\")"
   ]
  },
  {
   "cell_type": "code",
   "execution_count": null,
   "outputs": [],
   "source": [],
   "metadata": {
    "collapsed": false
   }
  }
 ],
 "metadata": {
  "kernelspec": {
   "display_name": "Python 3",
   "language": "python",
   "name": "python3"
  },
  "language_info": {
   "codemirror_mode": {
    "name": "ipython",
    "version": 3
   },
   "file_extension": ".py",
   "mimetype": "text/x-python",
   "name": "python",
   "nbconvert_exporter": "python",
   "pygments_lexer": "ipython3",
   "version": "3.9.7"
  },
  "orig_nbformat": 4
 },
 "nbformat": 4,
 "nbformat_minor": 2
}
