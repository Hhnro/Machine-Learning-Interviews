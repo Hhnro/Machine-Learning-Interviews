{
 "cells": [
  {
   "cell_type": "markdown",
   "source": [
    "# Regression Model\n",
    "### MAE\n",
    "\n",
    "$\\frac{1}{n} \\sum_{i=1}^{n} |y_i - \\hat{y}_i|$\n",
    "\n",
    "### MSE\n",
    "\n",
    "$ \\frac{1}{n} \\sum_{i=1}^{n} (y_i - \\hat{y}_i)^2 $\n",
    "\n",
    "### RMSE\n",
    "\n",
    "$\\sqrt{MSE}$\n",
    "\n",
    "### MAPE (Mean Absolute Percentage Error)\n",
    "\n",
    "Calculates the average percentage difference between the predicted and actual values.  $ \\frac{1}{n} \\sum_{i=1}^{n} \\left| \\frac{y_i - \\hat{y}_i}{y_i} \\right| \\times 100\\%$"
   ],
   "metadata": {
    "collapsed": false
   },
   "id": "7145fe66fff4447e"
  },
  {
   "cell_type": "code",
   "execution_count": null,
   "outputs": [],
   "source": [
    "act = []\n",
    "pred = []\n",
    "assert len(act) == len(pred)\n",
    "\n",
    "\n",
    "def mean_absolute_error(actual, predicted):\n",
    "    return sum(abs(a - p) for a, p in zip(actual, predicted)) / len(actual)\n",
    "\n",
    "def mean_squared_error(actual, predicted):\n",
    "    return sum((a - p) ** 2 for a, p in zip(actual, predicted)) / len(actual)\n",
    "\n",
    "def root_mean_squared_error(actual, predicted):\n",
    "    \"\"\"Calculate Root Mean Squared Error (RMSE).\"\"\"\n",
    "    mse = mean_squared_error(actual, predicted)\n",
    "    return mse ** 0.5\n",
    "\n",
    "def mean_absolute_percentage_error(actual, predicted):\n",
    "    actual = [a if a != 0 else 1e-10 for a in actual]  # Avoid division by zero\n",
    "    return sum(abs((a - p) / a) for a, p in zip(actual, predicted)) / len(actual) * 100"
   ],
   "metadata": {
    "collapsed": false
   },
   "id": "2e9eebc7be232061"
  },
  {
   "cell_type": "markdown",
   "source": [
    "### R-squared\n",
    "Measures the proportion of the variance in the dependent variable that can be explained by the independent variables, $1 - \\frac{MSE_{model}}{MSE_{baseline}}$, where $MSE_{baseline}$ stands for a model who always predicts the mean of the target variable.\n"
   ],
   "metadata": {
    "collapsed": false
   },
   "id": "57036a8013d8250d"
  },
  {
   "cell_type": "code",
   "execution_count": null,
   "outputs": [],
   "source": [
    "def r_squared(actual, predicted):\n",
    "    \"\"\"Calculate R-squared.\"\"\"\n",
    "    if len(actual) != len(predicted):\n",
    "        raise ValueError(\"The length of actual and predicted lists must be the same.\")\n",
    "    \n",
    "    # Calculate mean of actual values\n",
    "    mean_actual = sum(actual) / len(actual)\n",
    "    \n",
    "    # Calculate SSres: sum of squares of the residual errors\n",
    "    ss_res = sum((a - p) ** 2 for a, p in zip(actual, predicted))\n",
    "    \n",
    "    # Calculate SStot: total sum of squares\n",
    "    ss_tot = sum((a - mean_actual) ** 2 for a in actual)\n",
    "    \n",
    "    # Calculate R-squared\n",
    "    r2 = 1 - (ss_res / ss_tot)\n",
    "    \n",
    "    return r2"
   ],
   "metadata": {
    "collapsed": false
   },
   "id": "67e411428829adb9"
  },
  {
   "cell_type": "markdown",
   "source": [
    "# Classification Model"
   ],
   "metadata": {
    "collapsed": false
   },
   "id": "c490b1c1c5d99800"
  },
  {
   "cell_type": "markdown",
   "source": [
    "### Accuracy, Precision, Recall, F1 for binary classification\n",
    "- Accuracy: $\\frac{TP+TN}{TP+TN+FP+FN}$\n",
    "- Precision: $\\frac{TP}{TP+FP}$\n",
    "- Recall: $\\frac{TP}{TP+FN}$\n",
    "- F1: $2\\times \\frac{Precision \\times Recall}{Precision + Recall}$"
   ],
   "metadata": {
    "collapsed": false
   },
   "id": "d04cb05cfe286179"
  },
  {
   "cell_type": "code",
   "execution_count": null,
   "outputs": [],
   "source": [
    "def accuracy(true, pred):\n",
    "    \"\"\"Calculate accuracy.\"\"\"\n",
    "    correct = sum(t == p for t, p in zip(true, pred))\n",
    "    return correct / len(true) if true else 0\n",
    "\n",
    "def precision(true, pred):\n",
    "    \"\"\"Calculate precision.\"\"\"\n",
    "    tp = sum(t == p == 1 for t, p in zip(true, pred))\n",
    "    fp = sum(t == 0 and p == 1 for t, p in zip(true, pred))\n",
    "    return tp / (tp + fp) if (tp + fp) != 0 else 0\n",
    "\n",
    "def recall(true, pred):\n",
    "    \"\"\"Calculate recall.\"\"\"\n",
    "    tp = sum(t == p == 1 for t, p in zip(true, pred))\n",
    "    fn = sum(t == 1 and p == 0 for t, p in zip(true, pred))\n",
    "    return tp / (tp + fn) if (tp + fn) != 0 else 0\n",
    "\n",
    "def f1_score(true, pred):\n",
    "    \"\"\"Calculate F1 score.\"\"\"\n",
    "    prec = precision(true, pred)\n",
    "    rec = recall(true, pred)\n",
    "    return 2 * (prec * rec) / (prec + rec) if (prec + rec) != 0 else 0"
   ],
   "metadata": {
    "collapsed": false
   },
   "id": "a89e2215be720e87"
  },
  {
   "cell_type": "markdown",
   "source": [
    "### Accuracy, Precision, Recall, F1 for multi-label classification"
   ],
   "metadata": {
    "collapsed": false
   },
   "id": "4572680e30f47904"
  },
  {
   "cell_type": "code",
   "execution_count": null,
   "outputs": [],
   "source": [
    "def calculate_tp_fp_fn(true, pred, label):\n",
    "    \"\"\"Calculate true positives, false positives, and false negatives for a specific label.\"\"\"\n",
    "    tp = sum(1 for true_labels, pred_labels in zip(true, pred) if label in true_labels and label in pred_labels)\n",
    "    fp = sum(1 for true_labels, pred_labels in zip(true, pred) if label not in true_labels and label in pred_labels)\n",
    "    fn = sum(1 for true_labels, pred_labels in zip(true, pred) if label in true_labels and label not in pred_labels)\n",
    "    return tp, fp, fn\n",
    "\n",
    "def macro_accuracy(true, pred, labels):\n",
    "    \"\"\"Calculate macro-averaged accuracy.\"\"\"\n",
    "    acc_sum = 0\n",
    "    for label in labels:\n",
    "        tp, fp, fn = calculate_tp_fp_fn(true, pred, label)\n",
    "        tn = len(true) - (tp + fp + fn)\n",
    "        acc_sum += (tp + tn) / (tp + tn + fp + fn) if (tp + tn + fp + fn) != 0 else 0\n",
    "    return acc_sum / len(labels)\n",
    "\n",
    "def macro_precision(true, pred, labels):\n",
    "    \"\"\"Calculate macro-averaged precision.\"\"\"\n",
    "    prec_sum = 0\n",
    "    for label in labels:\n",
    "        tp, fp, _ = calculate_tp_fp_fn(true, pred, label)\n",
    "        prec_sum += tp / (tp + fp) if (tp + fp) != 0 else 0\n",
    "    return prec_sum / len(labels)\n",
    "\n",
    "def macro_recall(true, pred, labels):\n",
    "    \"\"\"Calculate macro-averaged recall.\"\"\"\n",
    "    recall_sum = 0\n",
    "    for label in labels:\n",
    "        tp, _, fn = calculate_tp_fp_fn(true, pred, label)\n",
    "        recall_sum += tp / (tp + fn) if (tp + fn) != 0 else 0\n",
    "    return recall_sum / len(labels)\n",
    "\n",
    "def macro_f1(true, pred, labels):\n",
    "    \"\"\"Calculate macro-averaged F1 score.\"\"\"\n",
    "    f1_sum = 0\n",
    "    for label in labels:\n",
    "        tp, fp, fn = calculate_tp_fp_fn(true, pred, label)\n",
    "        precision = tp / (tp + fp) if (tp + fp) != 0 else 0\n",
    "        recall = tp / (tp + fn) if (tp + fn) != 0 else 0\n",
    "        f1 = 2 * (precision * recall) / (precision + recall) if (precision + recall) != 0 else 0\n",
    "        f1_sum += f1\n",
    "    return f1_sum / len(labels)"
   ],
   "metadata": {
    "collapsed": false
   },
   "id": "c35f0d38bb473da6"
  },
  {
   "cell_type": "markdown",
   "source": [
    "### ROC, AUC"
   ],
   "metadata": {
    "collapsed": false
   },
   "id": "cf42992a26e13ed1"
  },
  {
   "cell_type": "code",
   "execution_count": 1,
   "outputs": [
    {
     "data": {
      "text/plain": "<Figure size 640x480 with 1 Axes>",
      "image/png": "[encoded data removed]"
     },
     "metadata": {},
     "output_type": "display_data"
    }
   ],
   "source": [
    "from sklearn.metrics import roc_curve, auc\n",
    "import matplotlib.pyplot as plt\n",
    "\n",
    "# True binary labels and scores from a classifier\n",
    "y_true = [0, 1, 1, 0, 1]\n",
    "y_scores = [0.1, 0.4, 0.35, 0.8, 0.65]\n",
    "\n",
    "# Calculate FPR, TPR, and thresholds\n",
    "fpr, tpr, thresholds = roc_curve(y_true, y_scores)\n",
    "\n",
    "# Calculate AUC\n",
    "roc_auc = auc(fpr, tpr)\n",
    "\n",
    "# Plot ROC curve\n",
    "plt.figure()\n",
    "plt.plot(fpr, tpr, color='darkorange', lw=2, label='ROC curve (area = %0.2f)' % roc_auc)\n",
    "plt.plot([0, 1], [0, 1], color='navy', lw=2, linestyle='--')\n",
    "plt.xlim([0.0, 1.0])\n",
    "plt.ylim([0.0, 1.05])\n",
    "plt.xlabel('False Positive Rate')\n",
    "plt.ylabel('True Positive Rate')\n",
    "plt.title('Receiver Operating Characteristic')\n",
    "plt.legend(loc=\"lower right\")\n",
    "plt.show()"
   ],
   "metadata": {
    "collapsed": false,
    "ExecuteTime": {
     "end_time": "2024-03-18T22:20:02.565074Z",
     "start_time": "2024-03-18T22:20:00.297162Z"
    }
   },
   "id": "1f9fb8dbbb82a0cc"
  },
  {
   "cell_type": "markdown",
   "source": [
    "### P-R curve"
   ],
   "metadata": {
    "collapsed": false
   },
   "id": "c618d3da2ef8ff27"
  },
  {
   "cell_type": "code",
   "execution_count": 2,
   "outputs": [
    {
     "data": {
      "text/plain": "<Figure size 640x480 with 1 Axes>",
      "image/png": "[encoded data removed]"
     },
     "metadata": {},
     "output_type": "display_data"
    }
   ],
   "source": [
    "from sklearn.metrics import precision_recall_curve, auc\n",
    "import matplotlib.pyplot as plt\n",
    "\n",
    "# True binary labels and scores from a classifier\n",
    "y_true = [0, 1, 1, 0, 1]\n",
    "y_scores = [0.1, 0.4, 0.35, 0.8, 0.65]\n",
    "\n",
    "# Calculate precision-recall pairs for different probability thresholds\n",
    "precision, recall, thresholds = precision_recall_curve(y_true, y_scores)\n",
    "\n",
    "# Plot Precision-Recall curve\n",
    "plt.figure()\n",
    "plt.plot(recall, precision, color='blue', lw=2, label='Precision-Recall curve')\n",
    "plt.fill_between(recall, precision, step='post', alpha=0.2, color='b')\n",
    "plt.xlabel('Recall')\n",
    "plt.ylabel('Precision')\n",
    "plt.ylim([0.0, 1.05])\n",
    "plt.xlim([0.0, 1.0])\n",
    "plt.title('Precision-Recall curve')\n",
    "plt.legend(loc=\"lower left\")\n",
    "plt.show()\n"
   ],
   "metadata": {
    "collapsed": false,
    "ExecuteTime": {
     "end_time": "2024-03-18T22:20:44.642067Z",
     "start_time": "2024-03-18T22:20:44.527698Z"
    }
   },
   "id": "b6ebafbcf319842a"
  },
  {
   "cell_type": "markdown",
   "source": [
    "# Similarity"
   ],
   "metadata": {
    "collapsed": false
   },
   "id": "6f4b742027a68859"
  },
  {
   "cell_type": "markdown",
   "source": [
    "### Cosine Similarity\n",
    "\n",
    "$cos(A,B)=\\frac{A \\cdot B}{||A||_2||B||_2}$\n",
    "\n",
    "### Euclidean Distance\n",
    "\n",
    "$||A-B||_2=\\sqrt{\\Sigma_i(A_i-B_i)^2}$\n",
    "\n",
    "### KL Divergence\n",
    "\n",
    "Discrete: $D_{KL}(P||Q) = \\Sigma_x P(x)log(\\frac{P(x)}{Q(x)})$\n",
    "\n",
    "Continuous: $D_{KL}(P||Q)=\\int p(x)log(\\frac{p(x)}{q(x)})dx$\n"
   ],
   "metadata": {
    "collapsed": false
   },
   "id": "9ea87e76b7839879"
  },
  {
   "cell_type": "code",
   "execution_count": null,
   "outputs": [],
   "source": [
    "import numpy as np\n",
    "\n",
    "\n",
    "def cosine_similarity(vec1, vec2):\n",
    "    dot_product = np.dot(vec1, vec2)\n",
    "    norm_vec1 = np.linalg.norm(vec1)\n",
    "    norm_vec2 = np.linalg.norm(vec2)\n",
    "    return dot_product / (norm_vec1 * norm_vec2)\n",
    "\n",
    "\n",
    "def euclidean_distance(vec1, vec2):\n",
    "    return np.sqrt(np.sum((vec1 - vec2) ** 2))\n",
    "\n",
    "\n",
    "def kl_divergence(p, q):\n",
    "    return np.sum(np.where(p != 0, p * np.log(p / q), 0))"
   ],
   "metadata": {
    "collapsed": false
   },
   "id": "46f8c932969af106"
  },
  {
   "cell_type": "markdown",
   "source": [
    "# Ranking model"
   ],
   "metadata": {
    "collapsed": false
   },
   "id": "7d11b443c07b09de"
  },
  {
   "cell_type": "markdown",
   "source": [
    "### Mean Reciprocal Rank (MRR)\n",
    "\n",
    "Definition - The average of the reciprocal ranks of the first relevant item for a set of queries.\n",
    "\n",
    "$MRR=\\frac{1}{|Q|}\\Sigma_{i=1}^{|Q|}\\frac{1}{rank_i}$\n",
    "\n",
    "where $|Q|$ is the number of queries, and $rank_i$ is the rank position of the first relevant item for the $i$-th query."
   ],
   "metadata": {
    "collapsed": false
   },
   "id": "4a0c09e9b3769f35"
  },
  {
   "cell_type": "code",
   "execution_count": null,
   "outputs": [],
   "source": [
    "def mean_reciprocal_rank(rs):\n",
    "    \"\"\"Calculate Mean Reciprocal Rank (MRR)\"\"\"\n",
    "    rs = (np.asarray(r).nonzero()[0] for r in rs)\n",
    "    return np.mean([1. / (r[0] + 1) if r.size else 0. for r in rs])\n",
    "\n",
    "# Example usage\n",
    "queries = [[0, 0, 1], [0, 1, 0], [1, 0, 0]]  # 1 indicates relevant item\n",
    "print(mean_reciprocal_rank(queries))"
   ],
   "metadata": {
    "collapsed": false
   },
   "id": "59a66b5c7f5d281b"
  },
  {
   "cell_type": "markdown",
   "source": [
    "### Normalized Discounted Cumulative Gain (nDCG)\n",
    "\n",
    "Definition: Measures the usefulness, or gain, of an item based on its position in the result list. The gain is accumulated from the top of the list to the bottom, with the gain of each item discounted at lower ranks.\n",
    "\n",
    "Formula:\n",
    "\n",
    "DCG: $DCG_p=\\Sigma_{i=1}^{p}\\frac{2^{rel_i}-1}{\\log_2(i+1)}$\n",
    "\n",
    "nDCG: $nDCG_p=\\frac{DCG_p}{IDCG_p}$\n",
    "\n",
    "where $rel_i$ is the relevance score of an item at position $i$, $p$ is a popular rank position, and $IDCG$ is the ideal DCG (the maximum possible DCG up to position $p$, ensuring the normalization factor makes $nDCG$ always between 0 and 1."
   ],
   "metadata": {
    "collapsed": false
   },
   "id": "20112ba567ff06cc"
  },
  {
   "cell_type": "code",
   "execution_count": null,
   "outputs": [],
   "source": [
    "import numpy as np\n",
    "\n",
    "def dcg_score(y_true, y_score, k=5):\n",
    "    \"\"\"Calculate DCG score\"\"\"\n",
    "    order = np.argsort(y_score)[::-1]\n",
    "    y_true = np.take(y_true, order[:k])\n",
    "    gains = 2 ** y_true - 1\n",
    "    discounts = np.log2(np.arange(2, k + 2))\n",
    "    return np.sum(gains / discounts)\n",
    "\n",
    "def ndcg_score(y_true, y_score, k=5):\n",
    "    \"\"\"Calculate nDCG score\"\"\"\n",
    "    best_dcg = dcg_score(y_true, y_true, k)\n",
    "    actual_dcg = dcg_score(y_true, y_score, k)\n",
    "    return actual_dcg / best_dcg\n",
    "\n",
    "# Example usage\n",
    "true_relevance = np.asarray([3, 2, 3, 0, 1, 2])\n",
    "scores = np.asarray([0.1, 0.4, 0.35, 0.8, 0.5, 0.2])\n",
    "print(ndcg_score(true_relevance, scores))\n"
   ],
   "metadata": {
    "collapsed": false
   },
   "id": "c3cacce081072b22"
  },
  {
   "cell_type": "markdown",
   "source": [
    "### Precision at k (P@k)\n",
    "\n",
    "Definition: The proportion of recommended items in the top-k set that are relevant.\n",
    "\n",
    "$Precision \\@ k = \\frac{\\text{Number of relevant items in top-k}}{k}$"
   ],
   "metadata": {
    "collapsed": false
   },
   "id": "4c622f45d8b117bf"
  },
  {
   "cell_type": "code",
   "execution_count": null,
   "outputs": [],
   "source": [
    "def precision_at_k(true, pred, k=5):\n",
    "    \"\"\"Calculate Precision at k\"\"\"\n",
    "    assert len(pred) >= k, \"The length of the prediction must be at least k.\"\n",
    "    relevant_items = set(true)\n",
    "    top_k_items = set(pred[:k])\n",
    "    return len(relevant_items & top_k_items) / k\n",
    "\n",
    "# Example usage\n",
    "true_items = [1, 2, 3]\n",
    "predicted_items = [2, 1, 4, 5, 3]\n",
    "print(precision_at_k(true_items, predicted_items, k=3))"
   ],
   "metadata": {
    "collapsed": false
   },
   "id": "8a07995d651eab64"
  },
  {
   "cell_type": "code",
   "execution_count": null,
   "outputs": [],
   "source": [],
   "metadata": {
    "collapsed": false
   },
   "id": "684d835f213b7296"
  }
 ],
 "metadata": {
  "kernelspec": {
   "display_name": "Python 3",
   "language": "python",
   "name": "python3"
  },
  "language_info": {
   "codemirror_mode": {
    "name": "ipython",
    "version": 2
   },
   "file_extension": ".py",
   "mimetype": "text/x-python",
   "name": "python",
   "nbconvert_exporter": "python",
   "pygments_lexer": "ipython2",
   "version": "2.7.6"
  }
 },
 "nbformat": 4,
 "nbformat_minor": 5
}
