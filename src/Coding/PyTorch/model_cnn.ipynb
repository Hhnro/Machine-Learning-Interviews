{
 "cells": [
  {
   "cell_type": "markdown",
   "source": [
    "## 2D CNN\n",
    "\n",
    "Size changes after convolution layers\n",
    "- out_height = (image_height - kernel_height + 2 * padding) / stride + 1\n",
    "- out_width = (image_width - kernel_width + 2 * padding) / stride + 1\n",
    "\n",
    "Size changes after pooling layers\n",
    "- out_height = (image_height - pool_height) / stride + 1\n",
    "- out_width = (image_width - pool_width) / stride + 1"
   ],
   "metadata": {
    "collapsed": false
   },
   "id": "a7ec83a1a7fe2cc0"
  },
  {
   "cell_type": "code",
   "execution_count": null,
   "outputs": [],
   "source": [
    "import torch\n",
    "import torch.nn as nn\n",
    "import torch.nn.functional as F\n",
    "\n",
    "class SimpleCNN2D(nn.Module):\n",
    "    def __init__(self, num_classes=10):\n",
    "        super(SimpleCNN2D, self).__init__()\n",
    "        # Define the first convolutional layer\n",
    "        self.conv1 = nn.Conv2d(in_channels=1, out_channels=32, kernel_size=3, stride=1, padding=1)\n",
    "        # Define the second convolutional layer\n",
    "        self.conv2 = nn.Conv2d(in_channels=32, out_channels=64, kernel_size=3, stride=1, padding=1)\n",
    "        # Define a max pooling layer\n",
    "        self.pool = nn.MaxPool2d(kernel_size=2, stride=2, padding=0)\n",
    "        # Define the fully connected layer\n",
    "        self.fc = nn.Linear(in_features=64 * 7 * 7, out_features=num_classes)\n",
    "    \n",
    "    def forward(self, x):\n",
    "        # Apply the first convolutional layer followed by ReLU and max pooling\n",
    "        x = self.pool(F.relu(self.conv1(x)))\n",
    "        # Apply the second convolutional layer followed by ReLU and max pooling\n",
    "        x = self.pool(F.relu(self.conv2(x)))\n",
    "        # Flatten the tensor for the fully connected layer\n",
    "        x = x.view(-1, 64 * 7 * 7)\n",
    "        # Apply the fully connected layer\n",
    "        x = self.fc(x)\n",
    "        return x\n"
   ],
   "metadata": {
    "collapsed": false
   },
   "id": "70e0c9fc8d3d718a"
  },
  {
   "cell_type": "code",
   "execution_count": null,
   "outputs": [],
   "source": [
    "model = SimpleCNN2D(num_classes=10)  # Assuming 10 classes for classification\n",
    "\n",
    "# Example forward pass with dummy input\n",
    "dummy_input = torch.randn(1, 1, 28, 28)  # Assuming input size of 28x28 pixels\n",
    "output = model(dummy_input)\n",
    "\n",
    "print(\"Output shape:\", output.shape)  # Expected shape: [1, num_classes]"
   ],
   "metadata": {
    "collapsed": false
   },
   "id": "24201156efd80d53"
  },
  {
   "cell_type": "markdown",
   "source": [
    "## 3D CNN"
   ],
   "metadata": {
    "collapsed": false
   },
   "id": "e24625ecccee713a"
  },
  {
   "cell_type": "code",
   "execution_count": null,
   "outputs": [],
   "source": [
    "import torch\n",
    "import torch.nn as nn\n",
    "import torch.nn.functional as F\n",
    "\n",
    "class SimpleCNN3D(nn.Module):\n",
    "    def __init__(self, num_classes=10):\n",
    "        super(SimpleCNN3D, self).__init__()\n",
    "        # Define the first 3D convolutional layer\n",
    "        self.conv1 = nn.Conv3d(in_channels=1, out_channels=16, kernel_size=3, stride=1, padding=1)\n",
    "        # Define the second 3D convolutional layer\n",
    "        self.conv2 = nn.Conv3d(in_channels=16, out_channels=32, kernel_size=3, stride=1, padding=1)\n",
    "        # Define a 3D max pooling layer\n",
    "        self.pool = nn.MaxPool3d(kernel_size=2, stride=2, padding=0)\n",
    "        # Define the fully connected layer\n",
    "        # Adjust the in_features according to the output of the last pooling layer\n",
    "        self.fc = nn.Linear(in_features=32 * 8 * 8 * 8, out_features=num_classes)\n",
    "        \n",
    "    def forward(self, x):\n",
    "        # Apply the first 3D convolutional layer followed by ReLU and 3D max pooling\n",
    "        x = self.pool(F.relu(self.conv1(x)))\n",
    "        # Apply the second 3D convolutional layer followed by ReLU and 3D max pooling\n",
    "        x = self.pool(F.relu(self.conv2(x)))\n",
    "        # Flatten the tensor for the fully connected layer\n",
    "        x = x.view(-1, 32 * 8 * 8 * 8)  # Adjust the size here according to the output of the last pooling layer\n",
    "        # Apply the fully connected layer\n",
    "        x = self.fc(x)\n",
    "        return x\n"
   ],
   "metadata": {
    "collapsed": false
   },
   "id": "8b5182bb8b9e5f84"
  },
  {
   "cell_type": "code",
   "execution_count": null,
   "outputs": [],
   "source": [
    "# Instantiate the model\n",
    "model = SimpleCNN3D(num_classes=2)  # Example for binary classification\n",
    "\n",
    "# Check with a dummy input tensor\n",
    "# Assuming the input 3D data has dimensions: Depth=16, Height=32, Width=32\n",
    "dummy_input = torch.randn(1, 1, 16, 32, 32)  # Batch size=1, Channels=1\n",
    "output = model(dummy_input)\n",
    "\n",
    "print(\"Output shape:\", output.shape)  # Expected shape: [1, num_classes]"
   ],
   "metadata": {
    "collapsed": false
   },
   "id": "834eedcfe9289d9f"
  }
 ],
 "metadata": {
  "kernelspec": {
   "display_name": "Python 3",
   "language": "python",
   "name": "python3"
  },
  "language_info": {
   "codemirror_mode": {
    "name": "ipython",
    "version": 2
   },
   "file_extension": ".py",
   "mimetype": "text/x-python",
   "name": "python",
   "nbconvert_exporter": "python",
   "pygments_lexer": "ipython2",
   "version": "2.7.6"
  }
 },
 "nbformat": 4,
 "nbformat_minor": 5
}
