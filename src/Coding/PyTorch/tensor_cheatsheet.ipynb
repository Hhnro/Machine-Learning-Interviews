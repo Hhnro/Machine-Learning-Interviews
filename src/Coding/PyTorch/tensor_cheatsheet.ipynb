{
 "cells": [
  {
   "cell_type": "markdown",
   "source": [
    "## Initialize tensor"
   ],
   "metadata": {
    "collapsed": false
   },
   "id": "690999e9fdb64e44"
  },
  {
   "cell_type": "code",
   "execution_count": null,
   "outputs": [],
   "source": [
    "import torch\n",
    "import numpy as np"
   ],
   "metadata": {
    "collapsed": false
   },
   "id": "431cf9907e1c153c"
  },
  {
   "cell_type": "code",
   "execution_count": null,
   "outputs": [],
   "source": [
    "\"\"\"Directly from data\"\"\"\n",
    "data = [[1, 2],[3, 4]]\n",
    "x_data = torch.tensor(data)\n",
    "\n",
    "\"\"\"From a numpy array\"\"\"\n",
    "np_array = np.array(data)\n",
    "x_np = torch.from_numpy(np_array)\n",
    "\n",
    "\"\"\"From another tensor\"\"\"\n",
    "x_ones = torch.ones_like(x_data) # retains the properties of x_data\n",
    "x_rand = torch.rand_like(x_data, dtype=torch.float) # overrides the datatype of x_data\n",
    "\n",
    "\"\"\"With random or constant values\"\"\"\n",
    "shape = (2,3,)\n",
    "rand_tensor = torch.rand(shape)\n",
    "ones_tensor = torch.ones(shape)\n",
    "zeros_tensor = torch.zeros(shape)"
   ],
   "metadata": {
    "collapsed": false
   },
   "id": "48172cf1ed9a9ba2"
  },
  {
   "cell_type": "markdown",
   "source": [
    "## Attributes of a tensor\n",
    "\n",
    "- shape\n",
    "- dtype\n",
    "- device"
   ],
   "metadata": {
    "collapsed": false
   },
   "id": "f79849cd49eedf37"
  },
  {
   "cell_type": "code",
   "execution_count": null,
   "outputs": [],
   "source": [
    "tensor = torch.rand(3,4)\n",
    "\n",
    "print(f\"Shape of tensor: {tensor.shape}\")\n",
    "print(f\"Datatype of tensor: {tensor.dtype}\")\n",
    "print(f\"Device tensor is stored on: {tensor.device}\")"
   ],
   "metadata": {
    "collapsed": false
   },
   "id": "c289c4aee8a0a948"
  },
  {
   "cell_type": "markdown",
   "source": [
    "## Common operations"
   ],
   "metadata": {
    "collapsed": false
   },
   "id": "1c7a79581d7f362d"
  },
  {
   "cell_type": "markdown",
   "source": [
    "#### Reshaping tensors"
   ],
   "metadata": {
    "collapsed": false
   },
   "id": "2eb2ad302145ec19"
  },
  {
   "cell_type": "code",
   "execution_count": null,
   "outputs": [],
   "source": [
    "tensor = torch.rand(4, 4)\n",
    "\n",
    "# Reshape tensor\n",
    "reshaped = tensor.view(2, 8)  # (2, 8)\n",
    "\n",
    "# Squeeze and unsqueeze\n",
    "# Removes dimensions of size 1, still (4,4) because there is no dim with size 1\n",
    "squeezed = torch.squeeze(tensor) \n",
    "unsqueezed = torch.unsqueeze(tensor, 0)  # Adds a dimension, (1, 4, 4)\n",
    "\n",
    "# Transpose tensor\n",
    "transposed = tensor.t()"
   ],
   "metadata": {
    "collapsed": false
   },
   "id": "5b0001b0102144e"
  },
  {
   "cell_type": "markdown",
   "source": [
    "#### Indexing, slicing, joining, and stacking"
   ],
   "metadata": {
    "collapsed": false
   },
   "id": "6806d41b94ab7935"
  },
  {
   "cell_type": "code",
   "execution_count": null,
   "outputs": [],
   "source": [
    "tensor = torch.rand(3, 4)\n",
    "\n",
    "# Indexing and slicing\n",
    "row = tensor[1]\n",
    "column = tensor[:, 1]\n",
    "sub_tensor = tensor[:2, :2]\n",
    "\n",
    "# Concatenating tensors\n",
    "concatenated = torch.cat([tensor, tensor], dim=0)  # shape (6,4)\n",
    "\n",
    "# Stacking tensors\n",
    "stacked = torch.stack([tensor, tensor], dim=0)  # shape (2,3,4)"
   ],
   "metadata": {
    "collapsed": false
   },
   "id": "ee9c10b0004c75a3"
  },
  {
   "cell_type": "markdown",
   "source": [
    "#### Arithmetic operations"
   ],
   "metadata": {
    "collapsed": false
   },
   "id": "1f46d3c6fbd1f7b0"
  },
  {
   "cell_type": "code",
   "execution_count": null,
   "outputs": [],
   "source": [
    "x = torch.tensor([1, 2, 3])\n",
    "y = torch.tensor([4, 5, 6])\n",
    "\n",
    "# Addition\n",
    "addition = torch.add(x, y)\n",
    "\n",
    "# Element-wise multiplication\n",
    "multiplication = torch.mul(x, y)  # shape [3]\n",
    "\n",
    "# Matrix multiplication\n",
    "mat_x = torch.rand(2, 3)\n",
    "mat_y = torch.rand(3, 4)\n",
    "mat_mul = torch.matmul(mat_x, mat_y)  # 2, 4\n",
    "\n",
    "# In-place addition (changes the value of x)\n",
    "x.add_(y)"
   ],
   "metadata": {
    "collapsed": false
   },
   "id": "2e21733e96fe99e8"
  },
  {
   "cell_type": "code",
   "execution_count": null,
   "outputs": [],
   "source": [],
   "metadata": {
    "collapsed": false
   },
   "id": "1b464c9393bba0a1"
  }
 ],
 "metadata": {
  "kernelspec": {
   "display_name": "Python 3",
   "language": "python",
   "name": "python3"
  },
  "language_info": {
   "codemirror_mode": {
    "name": "ipython",
    "version": 2
   },
   "file_extension": ".py",
   "mimetype": "text/x-python",
   "name": "python",
   "nbconvert_exporter": "python",
   "pygments_lexer": "ipython2",
   "version": "2.7.6"
  }
 },
 "nbformat": 4,
 "nbformat_minor": 5
}
