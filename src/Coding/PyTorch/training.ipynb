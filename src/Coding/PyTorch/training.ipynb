{
 "cells": [
  {
   "cell_type": "markdown",
   "source": [
    "loss"
   ],
   "metadata": {
    "collapsed": false
   },
   "id": "98199bf2b4a3554"
  },
  {
   "cell_type": "markdown",
   "source": [
    "optimizer"
   ],
   "metadata": {
    "collapsed": false
   },
   "id": "be24706db85c7ab6"
  },
  {
   "cell_type": "markdown",
   "source": [
    "learning rate decay"
   ],
   "metadata": {
    "collapsed": false
   },
   "id": "2b3eef97059efa3a"
  }
 ],
 "metadata": {
  "kernelspec": {
   "display_name": "Python 3",
   "language": "python",
   "name": "python3"
  },
  "language_info": {
   "codemirror_mode": {
    "name": "ipython",
    "version": 2
   },
   "file_extension": ".py",
   "mimetype": "text/x-python",
   "name": "python",
   "nbconvert_exporter": "python",
   "pygments_lexer": "ipython2",
   "version": "2.7.6"
  }
 },
 "nbformat": 4,
 "nbformat_minor": 5
}
