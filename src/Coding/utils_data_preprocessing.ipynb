{
 "cells": [
  {
   "cell_type": "markdown",
   "source": [
    "## Load data"
   ],
   "metadata": {
    "collapsed": false
   },
   "id": "ce1deeb947751152"
  },
  {
   "cell_type": "markdown",
   "source": [
    "#### Without using third party packages\n",
    "- Load file\n",
    "- Load csv\n",
    "- Load JSON\n",
    "- Load txt"
   ],
   "metadata": {
    "collapsed": false
   },
   "id": "4e3142e843ae2ba"
  },
  {
   "cell_type": "code",
   "execution_count": null,
   "outputs": [],
   "source": [
    "def load_txt(file_name):\n",
    "    f_data = []\n",
    "    with open(file_name, 'r') as f:\n",
    "        for line in f:\n",
    "            f_data.append(line)"
   ],
   "metadata": {
    "collapsed": false
   },
   "id": "7a019cb92e69f1ed"
  },
  {
   "cell_type": "code",
   "execution_count": null,
   "outputs": [],
   "source": [
    "# Load data from a CSV file\n",
    "def load_csv_data(file_path):\n",
    "    data = []\n",
    "    with open(file_path, 'r') as file:\n",
    "        lines = file.readlines()\n",
    "    for line in lines:\n",
    "        data.append(line.strip().split(','))\n",
    "    return data\n",
    "\n",
    "# Load data from a JSON file\n",
    "def load_json_data(file_path):\n",
    "    import json\n",
    "    with open(file_path, 'r') as file:\n",
    "        data = json.load(file)\n",
    "    return data\n",
    "\n",
    "# Load data from a text file\n",
    "def load_text_data(file_path):\n",
    "    data = []\n",
    "    with open(file_path, 'r') as file:\n",
    "        lines = file.readlines()\n",
    "    for line in lines:\n",
    "        data.append(line.strip())\n",
    "    return data\n",
    "\n",
    "# Usage examples\n",
    "csv_data = load_csv_data('data.csv')\n",
    "json_data = load_json_data('data.json')\n",
    "text_data = load_text_data('data.txt')"
   ],
   "metadata": {
    "collapsed": false
   },
   "id": "8a91d48e2ae48883"
  },
  {
   "cell_type": "markdown",
   "source": [
    "## Preprocessing"
   ],
   "metadata": {
    "collapsed": false
   },
   "id": "73ad7be3e1781f7a"
  },
  {
   "cell_type": "markdown",
   "source": [
    "### Missing values\n",
    "- Remove entire rows\n",
    "- Filling missing values with a specific value (e.g., 0 or a placeholder)\n",
    "- Filling with mean (for numeric columns)"
   ],
   "metadata": {
    "collapsed": false
   },
   "id": "20425e15c72082aa"
  },
  {
   "cell_type": "code",
   "execution_count": null,
   "outputs": [],
   "source": [
    "def remove_missing(data):\n",
    "    return [row for row in data if None not in row]"
   ],
   "metadata": {
    "collapsed": false
   },
   "id": "9aac69cf58d580de"
  },
  {
   "cell_type": "code",
   "execution_count": null,
   "outputs": [],
   "source": [
    "def fill_with_value(data, value=0):\n",
    "    return [[item if item is not None else value for item in row] for row in data]"
   ],
   "metadata": {
    "collapsed": false
   },
   "id": "87a87d9697e32aaf"
  },
  {
   "cell_type": "code",
   "execution_count": null,
   "outputs": [],
   "source": [
    "def fill_with_mean(data):\n",
    "    # Calculate mean of all the columns without missing values\n",
    "    n_rows, n_cols = len(data), len(data[0])\n",
    "    column_means = [0] * n_cols\n",
    "\t\t\n",
    "    for i in range(n_cols):\n",
    "        col_count = 0\n",
    "        for row in data:\n",
    "            col_i = row[i]\n",
    "            if col_i is not None:\n",
    "                column_means[i] += col_i\n",
    "                col_count += 1\n",
    "        if col_count != 0: \n",
    "            column_means[i] = column_means[i] / col_count\n",
    "    \n",
    "    for i, row in enumerate(data):\n",
    "        for j in range(n_cols):\n",
    "            if row[j] is None:\n",
    "                data[i][j] = column_means[j]\n",
    "\t\t\n",
    "\treturn data"
   ],
   "metadata": {
    "collapsed": false
   },
   "id": "e7dbb7bc170ef5cb"
  },
  {
   "cell_type": "markdown",
   "source": [
    "#### Filling missing values with numpy"
   ],
   "metadata": {
    "collapsed": false
   },
   "id": "885d53a6dc5818df"
  },
  {
   "cell_type": "code",
   "execution_count": null,
   "outputs": [],
   "source": [
    "import numpy as np\n",
    "\n",
    "def fill_missing_values(data, fill_value=0):\n",
    "    data_with_no_nan = np.copy(data)\n",
    "    # Replace np.nan with `fill_value`\n",
    "    data_with_no_nan[np.isnan(data_with_no_nan)] = fill_value\n",
    "    return data_with_no_nan"
   ],
   "metadata": {
    "collapsed": false
   },
   "id": "e20db05156797656"
  },
  {
   "cell_type": "markdown",
   "source": [
    "### Normalization"
   ],
   "metadata": {
    "collapsed": false
   },
   "id": "87481a0463c5ad10"
  },
  {
   "cell_type": "markdown",
   "source": [
    "#### Min-max scaling $\\frac{x-min}{max-min}$"
   ],
   "metadata": {
    "collapsed": false
   },
   "id": "2d7d77528fb40e4e"
  },
  {
   "cell_type": "code",
   "execution_count": null,
   "outputs": [],
   "source": [
    "# without numpy\n",
    "def min_max_scaling(data):\n",
    "    min_val, max_val = min(data), max(data)\n",
    "    if max_val - min_val == 0:\n",
    "        return [0 for _ in data]\n",
    "    return [(x - min_val) / (max_val - min_val) for x in data]\n",
    "\n",
    "# with numpy\n",
    "def normalize_data(data):\n",
    "    return (data - np.min(data)) / (np.max(data) - np.min(data))"
   ],
   "metadata": {
    "collapsed": false
   },
   "id": "4e4da288fcb2cb91"
  },
  {
   "cell_type": "markdown",
   "source": [
    "#### Z-score normalization"
   ],
   "metadata": {
    "collapsed": false
   },
   "id": "fa9769f856f773e8"
  },
  {
   "cell_type": "code",
   "execution_count": null,
   "outputs": [],
   "source": [
    "# without numpy\n",
    "def z_score_normalization(data):\n",
    "    mean = sum(data) / len(data)\n",
    "    variance = sum([(x - mean) ** 2 for x in data]) / len(data)\n",
    "    std_dev = variance ** 0.5\n",
    "    return [(x - mean) / std_dev for x in data]\n",
    "\n",
    "# with numpy\n",
    "def standardize_data(data):\n",
    "    return (data - np.mean(data, axis=0)) / np.std(data, axis=0)"
   ],
   "metadata": {
    "collapsed": false
   },
   "id": "c55ee11d8378664d"
  },
  {
   "cell_type": "markdown",
   "source": [
    "### Noises"
   ],
   "metadata": {
    "collapsed": false
   },
   "id": "7fb642f7c3ef208"
  },
  {
   "cell_type": "markdown",
   "source": [
    "#### Statistical: 3-sigma"
   ],
   "metadata": {
    "collapsed": false
   },
   "id": "878a9d725aeba18b"
  },
  {
   "cell_type": "code",
   "execution_count": null,
   "outputs": [],
   "source": [
    "def remove_outliers(data):\n",
    "    mean = sum(data) / len(data)\n",
    "    variance = sum([(d - mean) ** 2 for d in data]) / len(data)\n",
    "    std_dev = variance ** 0.5\n",
    "    new_data = [d for d in data if d > mean + 3 * std_dev or d < mean - 3 * std_dev]\n",
    "    return new_data"
   ],
   "metadata": {
    "collapsed": false
   },
   "id": "7594e4109ae529f5"
  },
  {
   "cell_type": "markdown",
   "source": [
    "## Feature Engineering"
   ],
   "metadata": {
    "collapsed": false
   },
   "id": "5d5567ba3ffc3de"
  },
  {
   "cell_type": "markdown",
   "source": [
    "### One-hot vector"
   ],
   "metadata": {
    "collapsed": false
   },
   "id": "3ca58c45f5232252"
  },
  {
   "cell_type": "code",
   "execution_count": null,
   "outputs": [],
   "source": [
    "class OneHotEncoder:\n",
    "    def __init__(self, data: list):\n",
    "        unique_labels = set(data)\n",
    "        self.element_to_index = {element: i for i, element in enumerate(unique_labels)}\n",
    "        self.num_elements = len(self.element_to_index)\t\t\t\t\n",
    "\n",
    "    def category_to_one_hot(self, input_data: list):\n",
    "        encoded_data = []\n",
    "        for d in input_data:\n",
    "            vector = [0] * self.num_elements\n",
    "            vector[self.element_to_index[d]] = 1\n",
    "            encoded_data.append(vector)\n",
    "        return encoded_data"
   ],
   "metadata": {
    "collapsed": false
   },
   "id": "e3f9fbfca0189636"
  }
 ],
 "metadata": {
  "kernelspec": {
   "display_name": "Python 3",
   "language": "python",
   "name": "python3"
  },
  "language_info": {
   "codemirror_mode": {
    "name": "ipython",
    "version": 2
   },
   "file_extension": ".py",
   "mimetype": "text/x-python",
   "name": "python",
   "nbconvert_exporter": "python",
   "pygments_lexer": "ipython2",
   "version": "2.7.6"
  }
 },
 "nbformat": 4,
 "nbformat_minor": 5
}
